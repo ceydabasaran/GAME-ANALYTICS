{
 "cells": [
  {
   "cell_type": "markdown",
   "id": "8144cc57-c59d-4a51-905d-74afbeb0b316",
   "metadata": {},
   "source": [
    "## Game Metrics Calculations<"
   ]
  },
  {
   "cell_type": "code",
   "execution_count": 1,
   "id": "eda0b0b0-1c3d-4981-9312-a5045b79aa54",
   "metadata": {},
   "outputs": [],
   "source": [
    "#importing the libraries\n",
    "import pandas as pd\n",
    "import numpy as np\n",
    "import matplotlib.pyplot as plt"
   ]
  },
  {
   "cell_type": "code",
   "execution_count": 2,
   "id": "4d9a4c97-fdd6-40ed-83fa-41c788c7375b",
   "metadata": {},
   "outputs": [],
   "source": [
    "#importing datasets\n",
    "installs = pd.read_excel (r'Installs.xlsx', parse_dates = ['InstallDate'])\n",
    "impressions = pd.read_excel (r'Impressions.xlsx', parse_dates = ['Date'])\n",
    "ecpm = pd.read_excel (r'eCPM.xlsx', parse_dates = ['Date'])"
   ]
  },
  {
   "cell_type": "markdown",
   "id": "0fdf6259-d215-4c10-bc26-92ace06389e0",
   "metadata": {},
   "source": [
    "### Cleaning and formatting the datasets\n",
    "\n",
    "* impression table has zero value columns.When importing the table, cells with a value of zero were transferred as null.So I changed these cells back to zero value.\n",
    "* The date column has been converted to the desired format. \n",
    "* Decimal numbers converted to desired format."
   ]
  },
  {
   "cell_type": "code",
   "execution_count": 3,
   "id": "de4fa631-42aa-4cda-8a46-8395997cc2b9",
   "metadata": {},
   "outputs": [],
   "source": [
    "#formatting the date and number formats\n",
    "\n",
    "#the function to format the date column MM/DD/YYYY\n",
    "def date_format(dataframe,column):\n",
    "    '''format the date column MM/DD/YYYY'''\n",
    "    return dataframe[column].dt.strftime(\"%m/%d/%Y\")\n",
    "\n",
    "#formatting the date colums of dataframes\n",
    "installs['InstallDate'] = date_format(installs,'InstallDate')\n",
    "impressions['Date'] = date_format(impressions, 'Date')\n",
    "ecpm['Date'] = date_format(ecpm, 'Date')\n",
    "\n",
    "#round to 2 significant figures for decimals\n",
    "ecpm['eCPM'] = ecpm['eCPM'].round(2)\n",
    "impressions['Impressions'] = impressions['Impressions'].round(2)\n",
    "\n",
    "#change null objects to zero \n",
    "impressions['Impressions'].fillna(0,inplace=True)"
   ]
  },
  {
   "cell_type": "markdown",
   "id": "42b82b3c-a656-46c5-a3d7-522695c78275",
   "metadata": {},
   "source": [
    "It was checked with the following code whether there are null values in the datasets. There are no null values."
   ]
  },
  {
   "cell_type": "code",
   "execution_count": 4,
   "id": "0eb0cbe8-bc74-488f-9ea6-e458bd5b80c8",
   "metadata": {
    "collapsed": true,
    "jupyter": {
     "outputs_hidden": true
    },
    "tags": []
   },
   "outputs": [
    {
     "data": {
      "text/plain": [
       "Date                 0\n",
       "App                  0\n",
       "CountryDashboard     0\n",
       "PlatformDashboard    0\n",
       "Format               0\n",
       "eCPM                 0\n",
       "dtype: int64"
      ]
     },
     "execution_count": 4,
     "metadata": {},
     "output_type": "execute_result"
    }
   ],
   "source": [
    "ecpm.isnull().sum()"
   ]
  },
  {
   "cell_type": "code",
   "execution_count": 5,
   "id": "c1418414-8224-4da8-a4ba-70677bcfb21a",
   "metadata": {
    "collapsed": true,
    "jupyter": {
     "outputs_hidden": true
    },
    "tags": []
   },
   "outputs": [
    {
     "data": {
      "text/plain": [
       "Date            0\n",
       "Game            0\n",
       "CountryName     0\n",
       "PlatformName    0\n",
       "AdFormat        0\n",
       "Impressions     0\n",
       "dtype: int64"
      ]
     },
     "execution_count": 5,
     "metadata": {},
     "output_type": "execute_result"
    }
   ],
   "source": [
    "impressions.isnull().sum()"
   ]
  },
  {
   "cell_type": "code",
   "execution_count": 25,
   "id": "ccdab0a0-b71c-42c5-a4a7-b4d3fcd1d2d1",
   "metadata": {
    "collapsed": true,
    "jupyter": {
     "outputs_hidden": true
    },
    "tags": []
   },
   "outputs": [
    {
     "data": {
      "text/plain": [
       "InstallDate             0\n",
       "App_Country_Platform    0\n",
       "UserCount               0\n",
       "dtype: int64"
      ]
     },
     "execution_count": 25,
     "metadata": {},
     "output_type": "execute_result"
    }
   ],
   "source": [
    "installs.isnull().sum()"
   ]
  },
  {
   "cell_type": "markdown",
   "id": "d10a2bc2-0572-4e79-8512-158f20b233cf",
   "metadata": {},
   "source": [
    "**There are 3 tables that are related to each other.**\n",
    "These tables have values \n",
    "that depend on the same categorical variables on the same date. \n",
    "In order to associate these tables with each other more easily, the values in their cells and column headings are arranged to be the same.\n",
    "* there are 3 different type games,2 different type platforms and 4 different types countries.\n",
    "* category types in ecpm and impressions dataframes have been changed according to the App_Country_Platform (e.g. Game X_de_google) column of the installs dataframe.\n",
    "\n",
    "    columns:\n",
    "    * game: Game X, Game Y, Game Z\n",
    "    * platform: android,google\n",
    "    * countries:DE - Germany , GB - Great Britain, United Kingdom, JP - Japan, US - United States of America\n",
    "    * ad format:intersyitial , rewarded\n",
    "* To merge it into the ecpm dataframe, the column headers have been changed to resemble the ecpm dataframe."
   ]
  },
  {
   "cell_type": "code",
   "execution_count": 6,
   "id": "64061a7f-9be7-4a3f-9df4-80b6fa63ca48",
   "metadata": {},
   "outputs": [],
   "source": [
    "# Mapping for channels according to installs \n",
    "\n",
    "def column_format(dataframe,column,column_dict):\n",
    "    '''code function to change cell values'''\n",
    "    return dataframe[column].map(column_dict)\n",
    "\n",
    "\n",
    "# ecpm name dictionaries : there are 3 different type games and 2 different type platforms.\n",
    "ecpm_game_dict = {'Game_X':'Game X','Game_Y':'Game Y', 'Game_Z':'Game Z'}\n",
    "ecpm_platform_dict = {'android':'google','ios':'itunes'}\n",
    "    \n",
    "# impressions name dictionaries\n",
    "impressions_game_dict = {\"GameX\": \"Game X\", \"GameY\": \"Game Y\", \"GameZ\": \"Game Z\"}\n",
    "impressions_platform_dict = {\"Android\": \"google\", \"iOS\": \"itunes\"}\n",
    "impressions_country_dict = {'Germany': 'de' , 'Japan': 'jp', 'United Kingdom':'gb' , \n",
    "                            'United States':'us'}\n",
    "impressions_ad_dict = {'Interstitial': 'interstitial' , 'Rewarded': 'rewarded'}\n",
    "\n",
    "#changing the game,platform,country column cells similar to installs dataframe\n",
    "\n",
    "ecpm['App'] = column_format(ecpm,'App',ecpm_game_dict)\n",
    "ecpm['PlatformDashboard'] = column_format(ecpm,'PlatformDashboard',ecpm_platform_dict)\n",
    "impressions['Game'] = column_format(impressions,'Game',impressions_game_dict)\n",
    "impressions['PlatformName'] = column_format(impressions,'PlatformName',impressions_platform_dict)\n",
    "impressions['CountryName'] = column_format(impressions,'CountryName',impressions_country_dict)\n",
    "impressions['AdFormat'] = column_format(impressions,'AdFormat',impressions_ad_dict)\n",
    "\n",
    "#changing the column name to merge all dataframes\n",
    "\n",
    "column_names = ['Date','App','CountryDashboard','PlatformDashboard','Format','Impressions']\n",
    "impressions.columns = column_names\n",
    "\n",
    "column_names_installs = ['Date', 'App_Country_Platform','UserCount']\n",
    "installs.columns = column_names_installs\n",
    "#change null objects to zero \n",
    "impressions['Impressions'].fillna(0,inplace=True)"
   ]
  },
  {
   "cell_type": "code",
   "execution_count": 27,
   "id": "fad1775a-6f1e-4951-ac13-8b9d62298358",
   "metadata": {},
   "outputs": [
    {
     "data": {
      "application/com.datacamp.data-table.v1+json": {
       "is_truncated": false,
       "table": {
        "data": [
         {
          "App_Country_Platform": "Game X_de_google",
          "Date": "12/07/2020",
          "UserCount": 30,
          "index": 0
         },
         {
          "App_Country_Platform": "Game X_de_itunes",
          "Date": "12/07/2020",
          "UserCount": 23,
          "index": 1
         },
         {
          "App_Country_Platform": "Game X_de_google",
          "Date": "12/08/2020",
          "UserCount": 38,
          "index": 2
         },
         {
          "App_Country_Platform": "Game X_de_itunes",
          "Date": "12/08/2020",
          "UserCount": 44,
          "index": 3
         },
         {
          "App_Country_Platform": "Game X_de_google",
          "Date": "12/09/2020",
          "UserCount": 20,
          "index": 4
         }
        ],
        "schema": {
         "fields": [
          {
           "name": "index",
           "type": "integer"
          },
          {
           "name": "Date",
           "type": "string"
          },
          {
           "name": "App_Country_Platform",
           "type": "string"
          },
          {
           "name": "UserCount",
           "type": "integer"
          }
         ],
         "pandas_version": "0.20.0",
         "primaryKey": [
          "index"
         ]
        }
       },
       "total_rows": 5
      },
      "text/html": [
       "<div>\n",
       "<style scoped>\n",
       "    .dataframe tbody tr th:only-of-type {\n",
       "        vertical-align: middle;\n",
       "    }\n",
       "\n",
       "    .dataframe tbody tr th {\n",
       "        vertical-align: top;\n",
       "    }\n",
       "\n",
       "    .dataframe thead th {\n",
       "        text-align: right;\n",
       "    }\n",
       "</style>\n",
       "<table border=\"1\" class=\"dataframe\">\n",
       "  <thead>\n",
       "    <tr style=\"text-align: right;\">\n",
       "      <th></th>\n",
       "      <th>Date</th>\n",
       "      <th>App_Country_Platform</th>\n",
       "      <th>UserCount</th>\n",
       "    </tr>\n",
       "  </thead>\n",
       "  <tbody>\n",
       "    <tr>\n",
       "      <th>0</th>\n",
       "      <td>12/07/2020</td>\n",
       "      <td>Game X_de_google</td>\n",
       "      <td>30</td>\n",
       "    </tr>\n",
       "    <tr>\n",
       "      <th>1</th>\n",
       "      <td>12/07/2020</td>\n",
       "      <td>Game X_de_itunes</td>\n",
       "      <td>23</td>\n",
       "    </tr>\n",
       "    <tr>\n",
       "      <th>2</th>\n",
       "      <td>12/08/2020</td>\n",
       "      <td>Game X_de_google</td>\n",
       "      <td>38</td>\n",
       "    </tr>\n",
       "    <tr>\n",
       "      <th>3</th>\n",
       "      <td>12/08/2020</td>\n",
       "      <td>Game X_de_itunes</td>\n",
       "      <td>44</td>\n",
       "    </tr>\n",
       "    <tr>\n",
       "      <th>4</th>\n",
       "      <td>12/09/2020</td>\n",
       "      <td>Game X_de_google</td>\n",
       "      <td>20</td>\n",
       "    </tr>\n",
       "  </tbody>\n",
       "</table>\n",
       "</div>"
      ],
      "text/plain": [
       "         Date App_Country_Platform  UserCount\n",
       "0  12/07/2020     Game X_de_google         30\n",
       "1  12/07/2020     Game X_de_itunes         23\n",
       "2  12/08/2020     Game X_de_google         38\n",
       "3  12/08/2020     Game X_de_itunes         44\n",
       "4  12/09/2020     Game X_de_google         20"
      ]
     },
     "execution_count": 27,
     "metadata": {},
     "output_type": "execute_result"
    }
   ],
   "source": [
    "#the first 5 columns of install dataset\n",
    "installs.head()\n"
   ]
  },
  {
   "cell_type": "code",
   "execution_count": 28,
   "id": "521bde2e-c880-4967-b21c-f1b79d8f34bc",
   "metadata": {},
   "outputs": [
    {
     "data": {
      "application/com.datacamp.data-table.v1+json": {
       "is_truncated": false,
       "table": {
        "data": [
         {
          "App": "Game X",
          "CountryDashboard": "de",
          "Date": "12/07/2020",
          "Format": "interstitial",
          "PlatformDashboard": "google",
          "eCPM": 18.66,
          "index": 0
         },
         {
          "App": "Game X",
          "CountryDashboard": "de",
          "Date": "12/07/2020",
          "Format": "interstitial",
          "PlatformDashboard": "itunes",
          "eCPM": 10.57,
          "index": 1
         },
         {
          "App": "Game X",
          "CountryDashboard": "de",
          "Date": "12/07/2020",
          "Format": "rewarded",
          "PlatformDashboard": "google",
          "eCPM": 48.85,
          "index": 2
         },
         {
          "App": "Game X",
          "CountryDashboard": "de",
          "Date": "12/07/2020",
          "Format": "rewarded",
          "PlatformDashboard": "itunes",
          "eCPM": 50.17,
          "index": 3
         },
         {
          "App": "Game X",
          "CountryDashboard": "de",
          "Date": "12/08/2020",
          "Format": "interstitial",
          "PlatformDashboard": "google",
          "eCPM": 32.36,
          "index": 4
         }
        ],
        "schema": {
         "fields": [
          {
           "name": "index",
           "type": "integer"
          },
          {
           "name": "Date",
           "type": "string"
          },
          {
           "name": "App",
           "type": "string"
          },
          {
           "name": "CountryDashboard",
           "type": "string"
          },
          {
           "name": "PlatformDashboard",
           "type": "string"
          },
          {
           "name": "Format",
           "type": "string"
          },
          {
           "name": "eCPM",
           "type": "number"
          }
         ],
         "pandas_version": "0.20.0",
         "primaryKey": [
          "index"
         ]
        }
       },
       "total_rows": 5
      },
      "text/html": [
       "<div>\n",
       "<style scoped>\n",
       "    .dataframe tbody tr th:only-of-type {\n",
       "        vertical-align: middle;\n",
       "    }\n",
       "\n",
       "    .dataframe tbody tr th {\n",
       "        vertical-align: top;\n",
       "    }\n",
       "\n",
       "    .dataframe thead th {\n",
       "        text-align: right;\n",
       "    }\n",
       "</style>\n",
       "<table border=\"1\" class=\"dataframe\">\n",
       "  <thead>\n",
       "    <tr style=\"text-align: right;\">\n",
       "      <th></th>\n",
       "      <th>Date</th>\n",
       "      <th>App</th>\n",
       "      <th>CountryDashboard</th>\n",
       "      <th>PlatformDashboard</th>\n",
       "      <th>Format</th>\n",
       "      <th>eCPM</th>\n",
       "    </tr>\n",
       "  </thead>\n",
       "  <tbody>\n",
       "    <tr>\n",
       "      <th>0</th>\n",
       "      <td>12/07/2020</td>\n",
       "      <td>Game X</td>\n",
       "      <td>de</td>\n",
       "      <td>google</td>\n",
       "      <td>interstitial</td>\n",
       "      <td>18.66</td>\n",
       "    </tr>\n",
       "    <tr>\n",
       "      <th>1</th>\n",
       "      <td>12/07/2020</td>\n",
       "      <td>Game X</td>\n",
       "      <td>de</td>\n",
       "      <td>itunes</td>\n",
       "      <td>interstitial</td>\n",
       "      <td>10.57</td>\n",
       "    </tr>\n",
       "    <tr>\n",
       "      <th>2</th>\n",
       "      <td>12/07/2020</td>\n",
       "      <td>Game X</td>\n",
       "      <td>de</td>\n",
       "      <td>google</td>\n",
       "      <td>rewarded</td>\n",
       "      <td>48.85</td>\n",
       "    </tr>\n",
       "    <tr>\n",
       "      <th>3</th>\n",
       "      <td>12/07/2020</td>\n",
       "      <td>Game X</td>\n",
       "      <td>de</td>\n",
       "      <td>itunes</td>\n",
       "      <td>rewarded</td>\n",
       "      <td>50.17</td>\n",
       "    </tr>\n",
       "    <tr>\n",
       "      <th>4</th>\n",
       "      <td>12/08/2020</td>\n",
       "      <td>Game X</td>\n",
       "      <td>de</td>\n",
       "      <td>google</td>\n",
       "      <td>interstitial</td>\n",
       "      <td>32.36</td>\n",
       "    </tr>\n",
       "  </tbody>\n",
       "</table>\n",
       "</div>"
      ],
      "text/plain": [
       "         Date     App CountryDashboard PlatformDashboard        Format   eCPM\n",
       "0  12/07/2020  Game X               de            google  interstitial  18.66\n",
       "1  12/07/2020  Game X               de            itunes  interstitial  10.57\n",
       "2  12/07/2020  Game X               de            google      rewarded  48.85\n",
       "3  12/07/2020  Game X               de            itunes      rewarded  50.17\n",
       "4  12/08/2020  Game X               de            google  interstitial  32.36"
      ]
     },
     "execution_count": 28,
     "metadata": {},
     "output_type": "execute_result"
    }
   ],
   "source": [
    "#the first 5 columns of ecpm dataset\n",
    "ecpm.head()\n"
   ]
  },
  {
   "cell_type": "code",
   "execution_count": 8,
   "id": "153e98b6-abb5-4f68-8e9e-70d2f3ebbea8",
   "metadata": {},
   "outputs": [
    {
     "data": {
      "application/com.datacamp.data-table.v1+json": {
       "is_truncated": false,
       "table": {
        "data": [
         {
          "App": "Game X",
          "CountryDashboard": "de",
          "Date": "12/07/2020",
          "Format": "interstitial",
          "Impressions": 526.11,
          "PlatformDashboard": "google",
          "index": 0
         },
         {
          "App": "Game X",
          "CountryDashboard": "de",
          "Date": "12/07/2020",
          "Format": "interstitial",
          "Impressions": 552.5,
          "PlatformDashboard": "itunes",
          "index": 1
         },
         {
          "App": "Game X",
          "CountryDashboard": "jp",
          "Date": "12/07/2020",
          "Format": "interstitial",
          "Impressions": 76.54,
          "PlatformDashboard": "google",
          "index": 2
         },
         {
          "App": "Game X",
          "CountryDashboard": "jp",
          "Date": "12/07/2020",
          "Format": "interstitial",
          "Impressions": 1787.71,
          "PlatformDashboard": "itunes",
          "index": 3
         },
         {
          "App": "Game X",
          "CountryDashboard": "gb",
          "Date": "12/07/2020",
          "Format": "interstitial",
          "Impressions": 995.2,
          "PlatformDashboard": "google",
          "index": 4
         }
        ],
        "schema": {
         "fields": [
          {
           "name": "index",
           "type": "integer"
          },
          {
           "name": "Date",
           "type": "string"
          },
          {
           "name": "App",
           "type": "string"
          },
          {
           "name": "CountryDashboard",
           "type": "string"
          },
          {
           "name": "PlatformDashboard",
           "type": "string"
          },
          {
           "name": "Format",
           "type": "string"
          },
          {
           "name": "Impressions",
           "type": "number"
          }
         ],
         "pandas_version": "0.20.0",
         "primaryKey": [
          "index"
         ]
        }
       },
       "total_rows": 5
      },
      "text/html": [
       "<div>\n",
       "<style scoped>\n",
       "    .dataframe tbody tr th:only-of-type {\n",
       "        vertical-align: middle;\n",
       "    }\n",
       "\n",
       "    .dataframe tbody tr th {\n",
       "        vertical-align: top;\n",
       "    }\n",
       "\n",
       "    .dataframe thead th {\n",
       "        text-align: right;\n",
       "    }\n",
       "</style>\n",
       "<table border=\"1\" class=\"dataframe\">\n",
       "  <thead>\n",
       "    <tr style=\"text-align: right;\">\n",
       "      <th></th>\n",
       "      <th>Date</th>\n",
       "      <th>App</th>\n",
       "      <th>CountryDashboard</th>\n",
       "      <th>PlatformDashboard</th>\n",
       "      <th>Format</th>\n",
       "      <th>Impressions</th>\n",
       "    </tr>\n",
       "  </thead>\n",
       "  <tbody>\n",
       "    <tr>\n",
       "      <th>0</th>\n",
       "      <td>12/07/2020</td>\n",
       "      <td>Game X</td>\n",
       "      <td>de</td>\n",
       "      <td>google</td>\n",
       "      <td>interstitial</td>\n",
       "      <td>526.11</td>\n",
       "    </tr>\n",
       "    <tr>\n",
       "      <th>1</th>\n",
       "      <td>12/07/2020</td>\n",
       "      <td>Game X</td>\n",
       "      <td>de</td>\n",
       "      <td>itunes</td>\n",
       "      <td>interstitial</td>\n",
       "      <td>552.50</td>\n",
       "    </tr>\n",
       "    <tr>\n",
       "      <th>2</th>\n",
       "      <td>12/07/2020</td>\n",
       "      <td>Game X</td>\n",
       "      <td>jp</td>\n",
       "      <td>google</td>\n",
       "      <td>interstitial</td>\n",
       "      <td>76.54</td>\n",
       "    </tr>\n",
       "    <tr>\n",
       "      <th>3</th>\n",
       "      <td>12/07/2020</td>\n",
       "      <td>Game X</td>\n",
       "      <td>jp</td>\n",
       "      <td>itunes</td>\n",
       "      <td>interstitial</td>\n",
       "      <td>1787.71</td>\n",
       "    </tr>\n",
       "    <tr>\n",
       "      <th>4</th>\n",
       "      <td>12/07/2020</td>\n",
       "      <td>Game X</td>\n",
       "      <td>gb</td>\n",
       "      <td>google</td>\n",
       "      <td>interstitial</td>\n",
       "      <td>995.20</td>\n",
       "    </tr>\n",
       "  </tbody>\n",
       "</table>\n",
       "</div>"
      ],
      "text/plain": [
       "         Date     App CountryDashboard PlatformDashboard        Format  \\\n",
       "0  12/07/2020  Game X               de            google  interstitial   \n",
       "1  12/07/2020  Game X               de            itunes  interstitial   \n",
       "2  12/07/2020  Game X               jp            google  interstitial   \n",
       "3  12/07/2020  Game X               jp            itunes  interstitial   \n",
       "4  12/07/2020  Game X               gb            google  interstitial   \n",
       "\n",
       "   Impressions  \n",
       "0       526.11  \n",
       "1       552.50  \n",
       "2        76.54  \n",
       "3      1787.71  \n",
       "4       995.20  "
      ]
     },
     "execution_count": 8,
     "metadata": {},
     "output_type": "execute_result"
    }
   ],
   "source": [
    "#the first 5 columns of impressions dataset\n",
    "impressions.head()\n"
   ]
  },
  {
   "cell_type": "markdown",
   "id": "4010bb38-6f3f-4d3a-8a2e-29df5d039263",
   "metadata": {},
   "source": [
    "### JOIN Dataframes\n",
    "\n",
    "Before proceeding to the calculations , all data should be matched in a single table in order to be able to operate more easily. The numerical values corresponding to the date, game, platform and advertisement format will be combined in the entire table."
   ]
  },
  {
   "cell_type": "code",
   "execution_count": 9,
   "id": "e06fd2c2-7d69-4cd9-80d2-4a53eab30e39",
   "metadata": {},
   "outputs": [
    {
     "data": {
      "text/plain": [
       "Date                    0\n",
       "App                     0\n",
       "CountryDashboard        0\n",
       "PlatformDashboard       0\n",
       "Format                  0\n",
       "eCPM                    0\n",
       "Impressions             0\n",
       "App_Country_Platform    0\n",
       "UserCount               0\n",
       "dtype: int64"
      ]
     },
     "execution_count": 9,
     "metadata": {},
     "output_type": "execute_result"
    }
   ],
   "source": [
    "#merge dataframes impression to ecpm\n",
    "ecpm_imp_merged = pd.merge(ecpm, impressions, how=\"left\",\\\n",
    "                           on=['Date','App','CountryDashboard','PlatformDashboard','Format'])\n",
    "\n",
    "#because some impression values are zero,when joinnind, function changed them to null objects. \n",
    "#change null onjects to zero again\n",
    "ecpm_imp_merged['Impressions'].fillna(0,inplace=True)\n",
    "\n",
    "#add column to merge install bu using App_Country_Platform column. İts beneficial to merge install dataframe.\n",
    "\n",
    "ecpm_imp_merged['App_Country_Platform']=ecpm['App']+'_'+ecpm['CountryDashboard']+'_'+ecpm['PlatformDashboard']\n",
    "\n",
    "#merge dataframes impression to ecpm_imp_merged dataframe\n",
    "ecpm_imp_ins_merged = pd.merge(ecpm_imp_merged, installs, how=\"left\",\\\n",
    "                               on=['Date','App_Country_Platform'])\n",
    "\n",
    "#if you control how many null objects are there, there is no null objects. \n",
    "pd.isna(ecpm_imp_ins_merged).sum()"
   ]
  },
  {
   "cell_type": "code",
   "execution_count": 31,
   "id": "dc747022-202c-4234-a710-552c994a1ce3",
   "metadata": {},
   "outputs": [
    {
     "data": {
      "application/com.datacamp.data-table.v1+json": {
       "is_truncated": false,
       "table": {
        "data": [
         {
          "App": "Game X",
          "App_Country_Platform": "Game X_de_google",
          "CountryDashboard": "de",
          "Date": "12/07/2020",
          "Format": "interstitial",
          "Impressions": 526.11,
          "PlatformDashboard": "google",
          "UserCount": 30,
          "eCPM": 18.66,
          "index": 0
         },
         {
          "App": "Game X",
          "App_Country_Platform": "Game X_de_itunes",
          "CountryDashboard": "de",
          "Date": "12/07/2020",
          "Format": "interstitial",
          "Impressions": 552.5,
          "PlatformDashboard": "itunes",
          "UserCount": 23,
          "eCPM": 10.57,
          "index": 1
         },
         {
          "App": "Game X",
          "App_Country_Platform": "Game X_de_google",
          "CountryDashboard": "de",
          "Date": "12/07/2020",
          "Format": "rewarded",
          "Impressions": 13.44,
          "PlatformDashboard": "google",
          "UserCount": 30,
          "eCPM": 48.85,
          "index": 2
         },
         {
          "App": "Game X",
          "App_Country_Platform": "Game X_de_itunes",
          "CountryDashboard": "de",
          "Date": "12/07/2020",
          "Format": "rewarded",
          "Impressions": 25.8,
          "PlatformDashboard": "itunes",
          "UserCount": 23,
          "eCPM": 50.17,
          "index": 3
         },
         {
          "App": "Game X",
          "App_Country_Platform": "Game X_de_google",
          "CountryDashboard": "de",
          "Date": "12/08/2020",
          "Format": "interstitial",
          "Impressions": 1222.1,
          "PlatformDashboard": "google",
          "UserCount": 38,
          "eCPM": 32.36,
          "index": 4
         }
        ],
        "schema": {
         "fields": [
          {
           "name": "index",
           "type": "integer"
          },
          {
           "name": "Date",
           "type": "string"
          },
          {
           "name": "App",
           "type": "string"
          },
          {
           "name": "CountryDashboard",
           "type": "string"
          },
          {
           "name": "PlatformDashboard",
           "type": "string"
          },
          {
           "name": "Format",
           "type": "string"
          },
          {
           "name": "eCPM",
           "type": "number"
          },
          {
           "name": "Impressions",
           "type": "number"
          },
          {
           "name": "App_Country_Platform",
           "type": "string"
          },
          {
           "name": "UserCount",
           "type": "integer"
          }
         ],
         "pandas_version": "0.20.0",
         "primaryKey": [
          "index"
         ]
        }
       },
       "total_rows": 5
      },
      "text/html": [
       "<div>\n",
       "<style scoped>\n",
       "    .dataframe tbody tr th:only-of-type {\n",
       "        vertical-align: middle;\n",
       "    }\n",
       "\n",
       "    .dataframe tbody tr th {\n",
       "        vertical-align: top;\n",
       "    }\n",
       "\n",
       "    .dataframe thead th {\n",
       "        text-align: right;\n",
       "    }\n",
       "</style>\n",
       "<table border=\"1\" class=\"dataframe\">\n",
       "  <thead>\n",
       "    <tr style=\"text-align: right;\">\n",
       "      <th></th>\n",
       "      <th>Date</th>\n",
       "      <th>App</th>\n",
       "      <th>CountryDashboard</th>\n",
       "      <th>PlatformDashboard</th>\n",
       "      <th>Format</th>\n",
       "      <th>eCPM</th>\n",
       "      <th>Impressions</th>\n",
       "      <th>App_Country_Platform</th>\n",
       "      <th>UserCount</th>\n",
       "    </tr>\n",
       "  </thead>\n",
       "  <tbody>\n",
       "    <tr>\n",
       "      <th>0</th>\n",
       "      <td>12/07/2020</td>\n",
       "      <td>Game X</td>\n",
       "      <td>de</td>\n",
       "      <td>google</td>\n",
       "      <td>interstitial</td>\n",
       "      <td>18.66</td>\n",
       "      <td>526.11</td>\n",
       "      <td>Game X_de_google</td>\n",
       "      <td>30</td>\n",
       "    </tr>\n",
       "    <tr>\n",
       "      <th>1</th>\n",
       "      <td>12/07/2020</td>\n",
       "      <td>Game X</td>\n",
       "      <td>de</td>\n",
       "      <td>itunes</td>\n",
       "      <td>interstitial</td>\n",
       "      <td>10.57</td>\n",
       "      <td>552.50</td>\n",
       "      <td>Game X_de_itunes</td>\n",
       "      <td>23</td>\n",
       "    </tr>\n",
       "    <tr>\n",
       "      <th>2</th>\n",
       "      <td>12/07/2020</td>\n",
       "      <td>Game X</td>\n",
       "      <td>de</td>\n",
       "      <td>google</td>\n",
       "      <td>rewarded</td>\n",
       "      <td>48.85</td>\n",
       "      <td>13.44</td>\n",
       "      <td>Game X_de_google</td>\n",
       "      <td>30</td>\n",
       "    </tr>\n",
       "    <tr>\n",
       "      <th>3</th>\n",
       "      <td>12/07/2020</td>\n",
       "      <td>Game X</td>\n",
       "      <td>de</td>\n",
       "      <td>itunes</td>\n",
       "      <td>rewarded</td>\n",
       "      <td>50.17</td>\n",
       "      <td>25.80</td>\n",
       "      <td>Game X_de_itunes</td>\n",
       "      <td>23</td>\n",
       "    </tr>\n",
       "    <tr>\n",
       "      <th>4</th>\n",
       "      <td>12/08/2020</td>\n",
       "      <td>Game X</td>\n",
       "      <td>de</td>\n",
       "      <td>google</td>\n",
       "      <td>interstitial</td>\n",
       "      <td>32.36</td>\n",
       "      <td>1222.10</td>\n",
       "      <td>Game X_de_google</td>\n",
       "      <td>38</td>\n",
       "    </tr>\n",
       "  </tbody>\n",
       "</table>\n",
       "</div>"
      ],
      "text/plain": [
       "         Date     App CountryDashboard PlatformDashboard        Format   eCPM  \\\n",
       "0  12/07/2020  Game X               de            google  interstitial  18.66   \n",
       "1  12/07/2020  Game X               de            itunes  interstitial  10.57   \n",
       "2  12/07/2020  Game X               de            google      rewarded  48.85   \n",
       "3  12/07/2020  Game X               de            itunes      rewarded  50.17   \n",
       "4  12/08/2020  Game X               de            google  interstitial  32.36   \n",
       "\n",
       "   Impressions App_Country_Platform  UserCount  \n",
       "0       526.11     Game X_de_google         30  \n",
       "1       552.50     Game X_de_itunes         23  \n",
       "2        13.44     Game X_de_google         30  \n",
       "3        25.80     Game X_de_itunes         23  \n",
       "4      1222.10     Game X_de_google         38  "
      ]
     },
     "execution_count": 31,
     "metadata": {},
     "output_type": "execute_result"
    }
   ],
   "source": [
    "##the first 5 columns of impressions merged dataframe: this is the main table to calculate metrics.\n",
    "ecpm_imp_ins_merged.head()"
   ]
  },
  {
   "cell_type": "markdown",
   "id": "2222badc-13fc-44d5-933c-c2595644fd9d",
   "metadata": {},
   "source": [
    "* We now have eCPM, impression and user count values that have been correspond to the same categorical data for all days. I will use this table generally to calculate the metrics.\n",
    "* It is necessary to calculate the metrics according to the each game. I will split the dataframe by games.\n",
    "* After splitting the table by each game, we will create pivot tables and calculate the metrics.\n",
    "**In this section, int index is used for interstitial and rew index is used for rewarded.*"
   ]
  },
  {
   "cell_type": "markdown",
   "id": "a87e4e41-095a-407b-9efb-b989b27e9ff0",
   "metadata": {},
   "source": [
    "**Calculating ImpU(Int)&ImpU(Rew)**\n",
    "* Interstitials impressions per user : I devided impression by number of users for each row. Then I calculated the mean for each game. \n",
    "* Since it is important to examine the calculated values according to the characteristics of the users, I analyzed them by breaking them on the basis of countries and platforms with a chart.\n",
    "* Finally, I graphically examined the time-dependent change of the Interstitials impressions per user value for each game."
   ]
  },
  {
   "cell_type": "code",
   "execution_count": 10,
   "id": "b2ecde88-2e17-473c-8151-9303d3941e86",
   "metadata": {},
   "outputs": [],
   "source": [
    "#the function to calculate ImpU\n",
    "def impu(df):\n",
    "    return df['Impressions']/df['UserCount']\n",
    "#the function to calculate Revenue\n",
    "def rev(df):\n",
    "    return df['Impressions']*df['eCPM']/1000\n",
    "    "
   ]
  },
  {
   "cell_type": "code",
   "execution_count": 11,
   "id": "db18f52a-731b-4738-84f8-391e01bb1dcd",
   "metadata": {},
   "outputs": [],
   "source": [
    "#ImpU(Int) for Game X\n",
    "gamex_int=ecpm_imp_ins_merged[(ecpm_imp_ins_merged['App']=='Game X') &\\\n",
    "                              (ecpm_imp_ins_merged['Format']=='interstitial')]\n",
    "gamex_int['ImpU']=impu(gamex_int)\n",
    "gamex_int=gamex_int.groupby(['CountryDashboard','PlatformDashboard'])['ImpU'].mean().reset_index()\n",
    "\n",
    "#ImpU(Int) for Game Y\n",
    "gamey_int=ecpm_imp_ins_merged[(ecpm_imp_ins_merged['App']=='Game Y') &\\\n",
    "                              (ecpm_imp_ins_merged['Format']=='interstitial')]\n",
    "gamey_int['ImpU']=impu(gamey_int)\n",
    "gamey_int=gamey_int.groupby(['CountryDashboard','PlatformDashboard'])['ImpU'].mean().reset_index()\n",
    "\n",
    "\n",
    "#ImpU(Int) for Game Z\n",
    "gamez_int=ecpm_imp_ins_merged[(ecpm_imp_ins_merged['App']=='Game Z') &\\\n",
    "                              (ecpm_imp_ins_merged['Format']=='interstitial')]\n",
    "gamez_int['ImpU']=impu(gamez_int)\n",
    "gamez_int=gamez_int.groupby(['CountryDashboard','PlatformDashboard'])['ImpU'].mean().reset_index()"
   ]
  },
  {
   "cell_type": "code",
   "execution_count": 13,
   "id": "fc2d4702-a258-4ef4-a832-8f78f41f137d",
   "metadata": {},
   "outputs": [
    {
     "name": "stdout",
     "output_type": "stream",
     "text": [
      "Interstitials impressions per user of Game X =:16.863463831745772\n",
      "Interstitials impressions per user of Game Y =:6.069456287687945\n",
      "Interstitials impressions per user of Game Z =:6.069456287687945\n"
     ]
    },
    {
     "data": {
      "application/com.datacamp.data-table.v1+json": {
       "is_truncated": false,
       "table": {
        "data": [
         {
          "App": "Game X",
          "PlatformDashboard": "google",
          "de": 17.4676587055,
          "gb": 12.2168294742,
          "jp": 18.9040547574,
          "us": 8.3205935594
         },
         {
          "App": "Game Y",
          "PlatformDashboard": "google",
          "de": 9.7425169005,
          "gb": 2.6764466912,
          "jp": 7.4020446078,
          "us": 4.7590240431
         },
         {
          "App": "Game Z",
          "PlatformDashboard": "google",
          "de": 4.4337726754,
          "gb": 7.4417070386,
          "jp": 4.7055945755,
          "us": 4.357301317
         },
         {
          "App": "Game X",
          "PlatformDashboard": "itunes",
          "de": 20.2099599354,
          "gb": 29.9194916236,
          "jp": 14.0780476261,
          "us": 13.7910749724
         },
         {
          "App": "Game Y",
          "PlatformDashboard": "itunes",
          "de": 6.4413902166,
          "gb": 7.6810728047,
          "jp": 5.4989577794,
          "us": 4.3541972582
         },
         {
          "App": "Game Z",
          "PlatformDashboard": "itunes",
          "de": 18.3991719142,
          "gb": 11.5188888401,
          "jp": 17.2057167956,
          "us": 13.0807473388
         }
        ],
        "schema": {
         "fields": [
          {
           "name": "PlatformDashboard",
           "type": "string"
          },
          {
           "name": "App",
           "type": "string"
          },
          {
           "name": "de",
           "type": "number"
          },
          {
           "name": "gb",
           "type": "number"
          },
          {
           "name": "jp",
           "type": "number"
          },
          {
           "name": "us",
           "type": "number"
          }
         ],
         "pandas_version": "0.20.0",
         "primaryKey": [
          "PlatformDashboard",
          "App"
         ]
        }
       },
       "total_rows": 6
      },
      "text/html": [
       "<div>\n",
       "<style scoped>\n",
       "    .dataframe tbody tr th:only-of-type {\n",
       "        vertical-align: middle;\n",
       "    }\n",
       "\n",
       "    .dataframe tbody tr th {\n",
       "        vertical-align: top;\n",
       "    }\n",
       "\n",
       "    .dataframe thead th {\n",
       "        text-align: right;\n",
       "    }\n",
       "</style>\n",
       "<table border=\"1\" class=\"dataframe\">\n",
       "  <thead>\n",
       "    <tr style=\"text-align: right;\">\n",
       "      <th></th>\n",
       "      <th>CountryDashboard</th>\n",
       "      <th>de</th>\n",
       "      <th>gb</th>\n",
       "      <th>jp</th>\n",
       "      <th>us</th>\n",
       "    </tr>\n",
       "    <tr>\n",
       "      <th>PlatformDashboard</th>\n",
       "      <th>App</th>\n",
       "      <th></th>\n",
       "      <th></th>\n",
       "      <th></th>\n",
       "      <th></th>\n",
       "    </tr>\n",
       "  </thead>\n",
       "  <tbody>\n",
       "    <tr>\n",
       "      <th rowspan=\"3\" valign=\"top\">google</th>\n",
       "      <th>Game X</th>\n",
       "      <td>17.467659</td>\n",
       "      <td>12.216829</td>\n",
       "      <td>18.904055</td>\n",
       "      <td>8.320594</td>\n",
       "    </tr>\n",
       "    <tr>\n",
       "      <th>Game Y</th>\n",
       "      <td>9.742517</td>\n",
       "      <td>2.676447</td>\n",
       "      <td>7.402045</td>\n",
       "      <td>4.759024</td>\n",
       "    </tr>\n",
       "    <tr>\n",
       "      <th>Game Z</th>\n",
       "      <td>4.433773</td>\n",
       "      <td>7.441707</td>\n",
       "      <td>4.705595</td>\n",
       "      <td>4.357301</td>\n",
       "    </tr>\n",
       "    <tr>\n",
       "      <th rowspan=\"3\" valign=\"top\">itunes</th>\n",
       "      <th>Game X</th>\n",
       "      <td>20.209960</td>\n",
       "      <td>29.919492</td>\n",
       "      <td>14.078048</td>\n",
       "      <td>13.791075</td>\n",
       "    </tr>\n",
       "    <tr>\n",
       "      <th>Game Y</th>\n",
       "      <td>6.441390</td>\n",
       "      <td>7.681073</td>\n",
       "      <td>5.498958</td>\n",
       "      <td>4.354197</td>\n",
       "    </tr>\n",
       "    <tr>\n",
       "      <th>Game Z</th>\n",
       "      <td>18.399172</td>\n",
       "      <td>11.518889</td>\n",
       "      <td>17.205717</td>\n",
       "      <td>13.080747</td>\n",
       "    </tr>\n",
       "  </tbody>\n",
       "</table>\n",
       "</div>"
      ],
      "text/plain": [
       "CountryDashboard                 de         gb         jp         us\n",
       "PlatformDashboard App                                               \n",
       "google            Game X  17.467659  12.216829  18.904055   8.320594\n",
       "                  Game Y   9.742517   2.676447   7.402045   4.759024\n",
       "                  Game Z   4.433773   7.441707   4.705595   4.357301\n",
       "itunes            Game X  20.209960  29.919492  14.078048  13.791075\n",
       "                  Game Y   6.441390   7.681073   5.498958   4.354197\n",
       "                  Game Z  18.399172  11.518889  17.205717  13.080747"
      ]
     },
     "execution_count": 13,
     "metadata": {},
     "output_type": "execute_result"
    },
    {
     "data": {
      "image/png": "[encoded data removed]",
      "text/plain": [
       "<Figure size 432x288 with 1 Axes>"
      ]
     },
     "metadata": {
      "needs_background": "light"
     },
     "output_type": "display_data"
    }
   ],
   "source": [
    "game_int=ecpm_imp_ins_merged[ecpm_imp_ins_merged['Format']=='interstitial']\n",
    "game_int['ImpU']=impu(game_int)\n",
    "game_int=game_int.groupby(['CountryDashboard','PlatformDashboard','App'])['ImpU'].mean().reset_index()\n",
    "game_int_pivot=game_int.pivot(index=['PlatformDashboard','App'], columns=['CountryDashboard'], values='ImpU')\n",
    "game_int_pivot.plot(kind='bar')\n",
    "plt.title('ImpU(Int) by country by platform')\n",
    "print('Interstitials impressions per user of Game X =:'+str(gamex_int['ImpU'].mean()))  #calculates the mean of ImpU\n",
    "print('Interstitials impressions per user of Game Y =:'+str(gamey_int['ImpU'].mean()))\n",
    "print('Interstitials impressions per user of Game Z =:'+str(gamey_int['ImpU'].mean()))\n",
    "game_int_pivot\n"
   ]
  },
  {
   "cell_type": "markdown",
   "id": "9f7464db-68f1-40bc-9615-c8863bba5358",
   "metadata": {},
   "source": [
    "* The game with the most Interstitials impressions per user value is X. But this is a general approach, in fact, it is necessary to examine it according to countries and other categorical variables.\n",
    "\n",
    "* If there were more countries then they could be grouped and analyzed by geography. In addition, the change of these values can be examined weekly or monthly in a longer-term data."
   ]
  },
  {
   "cell_type": "markdown",
   "id": "b3bbc7b8-295a-4805-bd28-fded4e92c9e9",
   "metadata": {},
   "source": [
    "* According to the bar graph above, the ImpU value of game x in countries varies according to the app platform. For example, Interstitials impressions per user is high in United Kingdom for ios, while Japan is high for android. It may also have something to do with the technology used in countries. Accordingly, the changes to be made for imression may be differentiated for these two platforms."
   ]
  },
  {
   "cell_type": "code",
   "execution_count": 14,
   "id": "39c1ad38-c3b3-4968-8620-e9c7285567ee",
   "metadata": {},
   "outputs": [
    {
     "data": {
      "application/com.datacamp.data-table.v1+json": {
       "is_truncated": false,
       "table": {
        "data": [
         {
          "Date": "12/07/2020",
          "Game X": 187.5421529343,
          "Game Y": 68.1728160322,
          "Game Z": 99.3879336722
         },
         {
          "Date": "12/08/2020",
          "Game X": 153.0116992372,
          "Game Y": 36.2723771239,
          "Game Z": 88.8997339903
         },
         {
          "Date": "12/09/2020",
          "Game X": 95.3037486755,
          "Game Y": 61.8353265414,
          "Game Z": 89.3755708336
         },
         {
          "Date": "12/10/2020",
          "Game X": 167.7658226442,
          "Game Y": 62.8856971089,
          "Game Z": 59.7294596955
         },
         {
          "Date": "12/11/2020",
          "Game X": 112.6412684773,
          "Game Y": 38.5373984474,
          "Game Z": 102.8882489017
         },
         {
          "Date": "12/12/2020",
          "Game X": 135.4727007729,
          "Game Y": 29.1031553299,
          "Game Z": 78.6675325828
         },
         {
          "Date": "12/13/2020",
          "Game X": 92.6165818363,
          "Game Y": 43.0827815269,
          "Game Z": 49.0518237892
         }
        ],
        "schema": {
         "fields": [
          {
           "name": "Date",
           "type": "string"
          },
          {
           "name": "Game X",
           "type": "number"
          },
          {
           "name": "Game Y",
           "type": "number"
          },
          {
           "name": "Game Z",
           "type": "number"
          }
         ],
         "pandas_version": "0.20.0",
         "primaryKey": [
          "Date"
         ]
        }
       },
       "total_rows": 7
      },
      "text/html": [
       "<div>\n",
       "<style scoped>\n",
       "    .dataframe tbody tr th:only-of-type {\n",
       "        vertical-align: middle;\n",
       "    }\n",
       "\n",
       "    .dataframe tbody tr th {\n",
       "        vertical-align: top;\n",
       "    }\n",
       "\n",
       "    .dataframe thead th {\n",
       "        text-align: right;\n",
       "    }\n",
       "</style>\n",
       "<table border=\"1\" class=\"dataframe\">\n",
       "  <thead>\n",
       "    <tr style=\"text-align: right;\">\n",
       "      <th>App</th>\n",
       "      <th>Game X</th>\n",
       "      <th>Game Y</th>\n",
       "      <th>Game Z</th>\n",
       "    </tr>\n",
       "    <tr>\n",
       "      <th>Date</th>\n",
       "      <th></th>\n",
       "      <th></th>\n",
       "      <th></th>\n",
       "    </tr>\n",
       "  </thead>\n",
       "  <tbody>\n",
       "    <tr>\n",
       "      <th>12/07/2020</th>\n",
       "      <td>187.542153</td>\n",
       "      <td>68.172816</td>\n",
       "      <td>99.387934</td>\n",
       "    </tr>\n",
       "    <tr>\n",
       "      <th>12/08/2020</th>\n",
       "      <td>153.011699</td>\n",
       "      <td>36.272377</td>\n",
       "      <td>88.899734</td>\n",
       "    </tr>\n",
       "    <tr>\n",
       "      <th>12/09/2020</th>\n",
       "      <td>95.303749</td>\n",
       "      <td>61.835327</td>\n",
       "      <td>89.375571</td>\n",
       "    </tr>\n",
       "    <tr>\n",
       "      <th>12/10/2020</th>\n",
       "      <td>167.765823</td>\n",
       "      <td>62.885697</td>\n",
       "      <td>59.729460</td>\n",
       "    </tr>\n",
       "    <tr>\n",
       "      <th>12/11/2020</th>\n",
       "      <td>112.641268</td>\n",
       "      <td>38.537398</td>\n",
       "      <td>102.888249</td>\n",
       "    </tr>\n",
       "    <tr>\n",
       "      <th>12/12/2020</th>\n",
       "      <td>135.472701</td>\n",
       "      <td>29.103155</td>\n",
       "      <td>78.667533</td>\n",
       "    </tr>\n",
       "    <tr>\n",
       "      <th>12/13/2020</th>\n",
       "      <td>92.616582</td>\n",
       "      <td>43.082782</td>\n",
       "      <td>49.051824</td>\n",
       "    </tr>\n",
       "  </tbody>\n",
       "</table>\n",
       "</div>"
      ],
      "text/plain": [
       "App             Game X     Game Y      Game Z\n",
       "Date                                         \n",
       "12/07/2020  187.542153  68.172816   99.387934\n",
       "12/08/2020  153.011699  36.272377   88.899734\n",
       "12/09/2020   95.303749  61.835327   89.375571\n",
       "12/10/2020  167.765823  62.885697   59.729460\n",
       "12/11/2020  112.641268  38.537398  102.888249\n",
       "12/12/2020  135.472701  29.103155   78.667533\n",
       "12/13/2020   92.616582  43.082782   49.051824"
      ]
     },
     "execution_count": 14,
     "metadata": {},
     "output_type": "execute_result"
    },
    {
     "data": {
      "image/png": "[encoded data removed]",
      "text/plain": [
       "<Figure size 432x288 with 1 Axes>"
      ]
     },
     "metadata": {
      "needs_background": "light"
     },
     "output_type": "display_data"
    }
   ],
   "source": [
    "game_int_time=ecpm_imp_ins_merged[ecpm_imp_ins_merged['Format']=='interstitial']\n",
    "game_int_time['ImpU']=impu(game_int_time)\n",
    "game_int_time=game_int_time.groupby(['Date','App'])['ImpU'].sum().reset_index()\n",
    "game_int_time_pivot=game_int_time.pivot(index=['Date'], columns=['App'], values='ImpU')\n",
    "game_int_time_pivot.plot()\n",
    "plt.title('Change of ImpU (Int) for each game according to time')\n",
    "plt.xticks(rotation = 45)\n",
    "plt.ylim([0, 220])\n",
    "game_int_time_pivot"
   ]
  },
  {
   "cell_type": "markdown",
   "id": "493a9291-174d-4538-bf36-ff0bb13a8d6e",
   "metadata": {},
   "source": [
    "* Interstitials impressions per user is bigger than rewarded impressions per user. Like ImpU(Int), the ImpU(Rew) value of game x in countries varies according to the app platform.\n",
    "* Android users showed a different behavior compared to rewarded impressin instertial. According to the countries, the display has changed as in the graphic. This time Germany instead of Japan has the highest value."
   ]
  },
  {
   "cell_type": "markdown",
   "id": "e08d6635-9571-41bc-9706-1d9a0e53df89",
   "metadata": {},
   "source": [
    "**Calculations for Rewarded impressions per user**:\n",
    "All calculations and visualizations for Interstitial were also done for rewarded this time."
   ]
  },
  {
   "cell_type": "code",
   "execution_count": 15,
   "id": "56e7ff91-da90-496e-9c15-ba605dc9553c",
   "metadata": {},
   "outputs": [],
   "source": [
    "#ImpU(Int) for Game X\n",
    "gamex_rew=ecpm_imp_ins_merged[(ecpm_imp_ins_merged['App']=='Game X') &\\\n",
    "                              (ecpm_imp_ins_merged['Format']=='rewarded')]\n",
    "gamex_rew['ImpU']=impu(gamex_rew)\n",
    "gamex_rew=gamex_rew.groupby(['CountryDashboard','PlatformDashboard'])['ImpU'].sum().reset_index()\n",
    "\n",
    "#ImpU(Int) for Game Y\n",
    "gamey_rew=ecpm_imp_ins_merged[(ecpm_imp_ins_merged['App']=='Game Y') &\\\n",
    "                              (ecpm_imp_ins_merged['Format']=='rewarded')]\n",
    "gamey_rew['ImpU']=impu(gamey_rew)\n",
    "gamey_rew=gamey_rew.groupby(['CountryDashboard','PlatformDashboard'])['ImpU'].sum().reset_index()\n",
    "\n",
    "\n",
    "#ImpU(Int) for Game Z\n",
    "gamez_rew=ecpm_imp_ins_merged[(ecpm_imp_ins_merged['App']=='Game Z') &\\\n",
    "                              (ecpm_imp_ins_merged['Format']=='rewarded')]\n",
    "gamez_rew['ImpU']=impu(gamez_rew)\n",
    "gamez_rew=gamez_rew.groupby(['CountryDashboard','PlatformDashboard'])['ImpU'].sum().reset_index()"
   ]
  },
  {
   "cell_type": "code",
   "execution_count": 16,
   "id": "89204cea-426a-49c7-946e-505096e2b162",
   "metadata": {},
   "outputs": [
    {
     "name": "stdout",
     "output_type": "stream",
     "text": [
      "Interstitials impressions per user of Game X =:3.7906609985794995\n",
      "Interstitials impressions per user of Game Y =:11.366956671076839\n",
      "Interstitials impressions per user of Game Z =:11.366956671076839\n"
     ]
    },
    {
     "data": {
      "application/com.datacamp.data-table.v1+json": {
       "is_truncated": false,
       "table": {
        "data": [
         {
          "App": "Game X",
          "PlatformDashboard": "google",
          "de": 4.8769669637,
          "gb": 2.2332832659,
          "jp": 1.9627603918,
          "us": 2.1538948186
         },
         {
          "App": "Game Y",
          "PlatformDashboard": "google",
          "de": 7.7957898143,
          "gb": 5.7535103139,
          "jp": 11.427345877,
          "us": 5.6214761268
         },
         {
          "App": "Game Z",
          "PlatformDashboard": "google",
          "de": 1.6875439923,
          "gb": 1.7089583932,
          "jp": 4.4810741823,
          "us": 2.1470349867
         },
         {
          "App": "Game X",
          "PlatformDashboard": "itunes",
          "de": 5.0086893348,
          "gb": 8.2125354553,
          "jp": 2.6416025065,
          "us": 3.2355552521
         },
         {
          "App": "Game Y",
          "PlatformDashboard": "itunes",
          "de": 23.280077603,
          "gb": 19.9225664515,
          "jp": 9.0678058807,
          "us": 8.0670813013
         },
         {
          "App": "Game Z",
          "PlatformDashboard": "itunes",
          "de": 6.158862081,
          "gb": 6.7824265775,
          "jp": 7.1667553644,
          "us": 12.0379264534
         }
        ],
        "schema": {
         "fields": [
          {
           "name": "PlatformDashboard",
           "type": "string"
          },
          {
           "name": "App",
           "type": "string"
          },
          {
           "name": "de",
           "type": "number"
          },
          {
           "name": "gb",
           "type": "number"
          },
          {
           "name": "jp",
           "type": "number"
          },
          {
           "name": "us",
           "type": "number"
          }
         ],
         "pandas_version": "0.20.0",
         "primaryKey": [
          "PlatformDashboard",
          "App"
         ]
        }
       },
       "total_rows": 6
      },
      "text/html": [
       "<div>\n",
       "<style scoped>\n",
       "    .dataframe tbody tr th:only-of-type {\n",
       "        vertical-align: middle;\n",
       "    }\n",
       "\n",
       "    .dataframe tbody tr th {\n",
       "        vertical-align: top;\n",
       "    }\n",
       "\n",
       "    .dataframe thead th {\n",
       "        text-align: right;\n",
       "    }\n",
       "</style>\n",
       "<table border=\"1\" class=\"dataframe\">\n",
       "  <thead>\n",
       "    <tr style=\"text-align: right;\">\n",
       "      <th></th>\n",
       "      <th>CountryDashboard</th>\n",
       "      <th>de</th>\n",
       "      <th>gb</th>\n",
       "      <th>jp</th>\n",
       "      <th>us</th>\n",
       "    </tr>\n",
       "    <tr>\n",
       "      <th>PlatformDashboard</th>\n",
       "      <th>App</th>\n",
       "      <th></th>\n",
       "      <th></th>\n",
       "      <th></th>\n",
       "      <th></th>\n",
       "    </tr>\n",
       "  </thead>\n",
       "  <tbody>\n",
       "    <tr>\n",
       "      <th rowspan=\"3\" valign=\"top\">google</th>\n",
       "      <th>Game X</th>\n",
       "      <td>4.876967</td>\n",
       "      <td>2.233283</td>\n",
       "      <td>1.962760</td>\n",
       "      <td>2.153895</td>\n",
       "    </tr>\n",
       "    <tr>\n",
       "      <th>Game Y</th>\n",
       "      <td>7.795790</td>\n",
       "      <td>5.753510</td>\n",
       "      <td>11.427346</td>\n",
       "      <td>5.621476</td>\n",
       "    </tr>\n",
       "    <tr>\n",
       "      <th>Game Z</th>\n",
       "      <td>1.687544</td>\n",
       "      <td>1.708958</td>\n",
       "      <td>4.481074</td>\n",
       "      <td>2.147035</td>\n",
       "    </tr>\n",
       "    <tr>\n",
       "      <th rowspan=\"3\" valign=\"top\">itunes</th>\n",
       "      <th>Game X</th>\n",
       "      <td>5.008689</td>\n",
       "      <td>8.212535</td>\n",
       "      <td>2.641603</td>\n",
       "      <td>3.235555</td>\n",
       "    </tr>\n",
       "    <tr>\n",
       "      <th>Game Y</th>\n",
       "      <td>23.280078</td>\n",
       "      <td>19.922566</td>\n",
       "      <td>9.067806</td>\n",
       "      <td>8.067081</td>\n",
       "    </tr>\n",
       "    <tr>\n",
       "      <th>Game Z</th>\n",
       "      <td>6.158862</td>\n",
       "      <td>6.782427</td>\n",
       "      <td>7.166755</td>\n",
       "      <td>12.037926</td>\n",
       "    </tr>\n",
       "  </tbody>\n",
       "</table>\n",
       "</div>"
      ],
      "text/plain": [
       "CountryDashboard                 de         gb         jp         us\n",
       "PlatformDashboard App                                               \n",
       "google            Game X   4.876967   2.233283   1.962760   2.153895\n",
       "                  Game Y   7.795790   5.753510  11.427346   5.621476\n",
       "                  Game Z   1.687544   1.708958   4.481074   2.147035\n",
       "itunes            Game X   5.008689   8.212535   2.641603   3.235555\n",
       "                  Game Y  23.280078  19.922566   9.067806   8.067081\n",
       "                  Game Z   6.158862   6.782427   7.166755  12.037926"
      ]
     },
     "execution_count": 16,
     "metadata": {},
     "output_type": "execute_result"
    },
    {
     "data": {
      "image/png": "[encoded data removed]",
      "text/plain": [
       "<Figure size 432x288 with 1 Axes>"
      ]
     },
     "metadata": {
      "needs_background": "light"
     },
     "output_type": "display_data"
    }
   ],
   "source": [
    "game_rew=ecpm_imp_ins_merged[ecpm_imp_ins_merged['Format']=='rewarded']\n",
    "game_rew['ImpU']=impu(game_rew)\n",
    "game_rew=game_rew.groupby(['CountryDashboard','PlatformDashboard','App'])['ImpU'].sum().reset_index()\n",
    "game_rew_pivot=game_rew.pivot(index=['PlatformDashboard','App'], columns=['CountryDashboard'], values='ImpU')\n",
    "game_rew_pivot.plot(kind='bar')\n",
    "print('Interstitials impressions per user of Game X =:'+str(gamex_rew['ImpU'].mean()))\n",
    "print('Interstitials impressions per user of Game Y =:'+str(gamey_rew['ImpU'].mean()))\n",
    "print('Interstitials impressions per user of Game Z =:'+str(gamey_rew['ImpU'].mean()))\n",
    "plt.title('ImpU(Int) by country by platform')\n",
    "game_rew_pivot\n",
    "\n"
   ]
  },
  {
   "cell_type": "code",
   "execution_count": 17,
   "id": "39997f43-c07d-4bff-8b59-30d568281f44",
   "metadata": {},
   "outputs": [
    {
     "data": {
      "application/com.datacamp.data-table.v1+json": {
       "is_truncated": false,
       "table": {
        "data": [
         {
          "Date": "12/07/2020",
          "Game X": 5.2590462959,
          "Game Y": 29.5686114112,
          "Game Z": 6.4610213501
         },
         {
          "Date": "12/08/2020",
          "Game X": 5.0471852537,
          "Game Y": 11.0578567488,
          "Game Z": 9.3547369182
         },
         {
          "Date": "12/09/2020",
          "Game X": 5.0492376074,
          "Game Y": 15.2806758743,
          "Game Z": 5.2248462924
         },
         {
          "Date": "12/10/2020",
          "Game X": 2.9571391953,
          "Game Y": 11.2786345955,
          "Game Z": 6.0609148222
         },
         {
          "Date": "12/11/2020",
          "Game X": 3.0753843752,
          "Game Y": 10.0471795611,
          "Game Z": 6.2398870871
         },
         {
          "Date": "12/12/2020",
          "Game X": 4.1527695552,
          "Game Y": 6.9579173583,
          "Game Z": 6.1090492034
         },
         {
          "Date": "12/13/2020",
          "Game X": 4.784525706,
          "Game Y": 6.7447778195,
          "Game Z": 2.7201263575
         }
        ],
        "schema": {
         "fields": [
          {
           "name": "Date",
           "type": "string"
          },
          {
           "name": "Game X",
           "type": "number"
          },
          {
           "name": "Game Y",
           "type": "number"
          },
          {
           "name": "Game Z",
           "type": "number"
          }
         ],
         "pandas_version": "0.20.0",
         "primaryKey": [
          "Date"
         ]
        }
       },
       "total_rows": 7
      },
      "text/html": [
       "<div>\n",
       "<style scoped>\n",
       "    .dataframe tbody tr th:only-of-type {\n",
       "        vertical-align: middle;\n",
       "    }\n",
       "\n",
       "    .dataframe tbody tr th {\n",
       "        vertical-align: top;\n",
       "    }\n",
       "\n",
       "    .dataframe thead th {\n",
       "        text-align: right;\n",
       "    }\n",
       "</style>\n",
       "<table border=\"1\" class=\"dataframe\">\n",
       "  <thead>\n",
       "    <tr style=\"text-align: right;\">\n",
       "      <th>App</th>\n",
       "      <th>Game X</th>\n",
       "      <th>Game Y</th>\n",
       "      <th>Game Z</th>\n",
       "    </tr>\n",
       "    <tr>\n",
       "      <th>Date</th>\n",
       "      <th></th>\n",
       "      <th></th>\n",
       "      <th></th>\n",
       "    </tr>\n",
       "  </thead>\n",
       "  <tbody>\n",
       "    <tr>\n",
       "      <th>12/07/2020</th>\n",
       "      <td>5.259046</td>\n",
       "      <td>29.568611</td>\n",
       "      <td>6.461021</td>\n",
       "    </tr>\n",
       "    <tr>\n",
       "      <th>12/08/2020</th>\n",
       "      <td>5.047185</td>\n",
       "      <td>11.057857</td>\n",
       "      <td>9.354737</td>\n",
       "    </tr>\n",
       "    <tr>\n",
       "      <th>12/09/2020</th>\n",
       "      <td>5.049238</td>\n",
       "      <td>15.280676</td>\n",
       "      <td>5.224846</td>\n",
       "    </tr>\n",
       "    <tr>\n",
       "      <th>12/10/2020</th>\n",
       "      <td>2.957139</td>\n",
       "      <td>11.278635</td>\n",
       "      <td>6.060915</td>\n",
       "    </tr>\n",
       "    <tr>\n",
       "      <th>12/11/2020</th>\n",
       "      <td>3.075384</td>\n",
       "      <td>10.047180</td>\n",
       "      <td>6.239887</td>\n",
       "    </tr>\n",
       "    <tr>\n",
       "      <th>12/12/2020</th>\n",
       "      <td>4.152770</td>\n",
       "      <td>6.957917</td>\n",
       "      <td>6.109049</td>\n",
       "    </tr>\n",
       "    <tr>\n",
       "      <th>12/13/2020</th>\n",
       "      <td>4.784526</td>\n",
       "      <td>6.744778</td>\n",
       "      <td>2.720126</td>\n",
       "    </tr>\n",
       "  </tbody>\n",
       "</table>\n",
       "</div>"
      ],
      "text/plain": [
       "App           Game X     Game Y    Game Z\n",
       "Date                                     \n",
       "12/07/2020  5.259046  29.568611  6.461021\n",
       "12/08/2020  5.047185  11.057857  9.354737\n",
       "12/09/2020  5.049238  15.280676  5.224846\n",
       "12/10/2020  2.957139  11.278635  6.060915\n",
       "12/11/2020  3.075384  10.047180  6.239887\n",
       "12/12/2020  4.152770   6.957917  6.109049\n",
       "12/13/2020  4.784526   6.744778  2.720126"
      ]
     },
     "execution_count": 17,
     "metadata": {},
     "output_type": "execute_result"
    },
    {
     "data": {
      "image/png": "[encoded data removed]",
      "text/plain": [
       "<Figure size 432x288 with 1 Axes>"
      ]
     },
     "metadata": {
      "needs_background": "light"
     },
     "output_type": "display_data"
    }
   ],
   "source": [
    "game_rew_time=ecpm_imp_ins_merged[ecpm_imp_ins_merged['Format']=='rewarded']\n",
    "game_rew_time['ImpU']=impu(game_rew_time)\n",
    "game_rew_time=game_rew_time.groupby(['Date','App'])['ImpU'].sum().reset_index()\n",
    "game_rew_time_pivot=game_rew_time.pivot(index=['Date'], columns=['App'], values='ImpU')\n",
    "game_rew_time_pivot.plot()\n",
    "plt.title('Change of ImpU (Rew) for each game according to time')\n",
    "plt.xticks(rotation = 45)\n",
    "plt.ylim([0, 40])\n",
    "game_rew_time_pivot\n"
   ]
  },
  {
   "cell_type": "markdown",
   "id": "994baf12-5de9-4410-9a36-dfd3a275c644",
   "metadata": {},
   "source": [
    "**Estimated revenue:** Est_Revenue =  InterstitialCount * eCPM (Int) + RewardedCount*eCPM (Rew)"
   ]
  },
  {
   "cell_type": "code",
   "execution_count": 71,
   "id": "53825a3d-b8db-47de-967f-08c885cb2bac",
   "metadata": {},
   "outputs": [
    {
     "data": {
      "application/com.datacamp.data-table.v1+json": {
       "is_truncated": false,
       "table": {
        "data": [
         {
          "App": "Game X",
          "Total": 16843.39,
          "de": 400.13,
          "gb": 982.59,
          "jp": 550.69,
          "us": 14909.98
         },
         {
          "App": "Game Y",
          "Total": 19214.27,
          "de": 2247.3,
          "gb": 1733.74,
          "jp": 1606.88,
          "us": 13626.35
         },
         {
          "App": "Game Z",
          "Total": 71253.11,
          "de": 1004.76,
          "gb": 6107.75,
          "jp": 2363.6,
          "us": 61777
         },
         {
          "App": "Total",
          "Total": 107310.77,
          "de": 3652.19,
          "gb": 8824.08,
          "jp": 4521.17,
          "us": 90313.33
         }
        ],
        "schema": {
         "fields": [
          {
           "name": "App",
           "type": "string"
          },
          {
           "name": "de",
           "type": "number"
          },
          {
           "name": "gb",
           "type": "number"
          },
          {
           "name": "jp",
           "type": "number"
          },
          {
           "name": "us",
           "type": "number"
          },
          {
           "name": "Total",
           "type": "number"
          }
         ],
         "pandas_version": "0.20.0",
         "primaryKey": [
          "App"
         ]
        }
       },
       "total_rows": 4
      },
      "text/html": [
       "<div>\n",
       "<style scoped>\n",
       "    .dataframe tbody tr th:only-of-type {\n",
       "        vertical-align: middle;\n",
       "    }\n",
       "\n",
       "    .dataframe tbody tr th {\n",
       "        vertical-align: top;\n",
       "    }\n",
       "\n",
       "    .dataframe thead th {\n",
       "        text-align: right;\n",
       "    }\n",
       "</style>\n",
       "<table border=\"1\" class=\"dataframe\">\n",
       "  <thead>\n",
       "    <tr style=\"text-align: right;\">\n",
       "      <th>CountryDashboard</th>\n",
       "      <th>de</th>\n",
       "      <th>gb</th>\n",
       "      <th>jp</th>\n",
       "      <th>us</th>\n",
       "      <th>Total</th>\n",
       "    </tr>\n",
       "    <tr>\n",
       "      <th>App</th>\n",
       "      <th></th>\n",
       "      <th></th>\n",
       "      <th></th>\n",
       "      <th></th>\n",
       "      <th></th>\n",
       "    </tr>\n",
       "  </thead>\n",
       "  <tbody>\n",
       "    <tr>\n",
       "      <th>Game X</th>\n",
       "      <td>400.13</td>\n",
       "      <td>982.59</td>\n",
       "      <td>550.69</td>\n",
       "      <td>14909.98</td>\n",
       "      <td>16843.39</td>\n",
       "    </tr>\n",
       "    <tr>\n",
       "      <th>Game Y</th>\n",
       "      <td>2247.30</td>\n",
       "      <td>1733.74</td>\n",
       "      <td>1606.88</td>\n",
       "      <td>13626.35</td>\n",
       "      <td>19214.27</td>\n",
       "    </tr>\n",
       "    <tr>\n",
       "      <th>Game Z</th>\n",
       "      <td>1004.76</td>\n",
       "      <td>6107.75</td>\n",
       "      <td>2363.60</td>\n",
       "      <td>61777.00</td>\n",
       "      <td>71253.11</td>\n",
       "    </tr>\n",
       "    <tr>\n",
       "      <th>Total</th>\n",
       "      <td>3652.19</td>\n",
       "      <td>8824.08</td>\n",
       "      <td>4521.17</td>\n",
       "      <td>90313.33</td>\n",
       "      <td>107310.77</td>\n",
       "    </tr>\n",
       "  </tbody>\n",
       "</table>\n",
       "</div>"
      ],
      "text/plain": [
       "CountryDashboard       de       gb       jp        us      Total\n",
       "App                                                             \n",
       "Game X             400.13   982.59   550.69  14909.98   16843.39\n",
       "Game Y            2247.30  1733.74  1606.88  13626.35   19214.27\n",
       "Game Z            1004.76  6107.75  2363.60  61777.00   71253.11\n",
       "Total             3652.19  8824.08  4521.17  90313.33  107310.77"
      ]
     },
     "execution_count": 71,
     "metadata": {},
     "output_type": "execute_result"
    },
    {
     "data": {
      "image/png": "[encoded data removed]",
      "text/plain": [
       "<Figure size 432x288 with 1 Axes>"
      ]
     },
     "metadata": {
      "needs_background": "light"
     },
     "output_type": "display_data"
    }
   ],
   "source": [
    "game_rev=ecpm_imp_ins_merged\n",
    "game_rev['Revenue'] = game_rev['Impressions']*game_rev['eCPM']/1000\n",
    "game_rev =game_rev.groupby(['CountryDashboard','PlatformDashboard','Format','App'])['Revenue'].sum().round(2).reset_index()\n",
    "game_rev=game_rev.pivot(columns='Format',index=['CountryDashboard','PlatformDashboard','App'] , values=['Revenue']).round(2).reset_index()\n",
    "game_rev['EstimatedRevenue'] = (game_rev[('Revenue','interstitial')] + game_rev[('Revenue','rewarded')]).round(2)\n",
    "del game_rev['Revenue']\n",
    "game_rev=game_rev.groupby(['App','CountryDashboard'])['EstimatedRevenue'].sum().reset_index()\n",
    "\n",
    "game_rev=game_rev.pivot_table(values='EstimatedRevenue', index = 'App', \\\n",
    "                              columns= 'CountryDashboard', \\\n",
    "                              aggfunc= 'sum', \\\n",
    "                              margins = True, margins_name='Total')\n",
    "\n",
    "game_rev_pivot.plot(kind='bar')\n",
    "plt.title('Estimated revenue by country by platform')\n",
    "\n",
    "game_rev"
   ]
  },
  {
   "cell_type": "code",
   "execution_count": null,
   "id": "19f8b916-9903-4520-a63b-936d16bc35c4",
   "metadata": {},
   "outputs": [],
   "source": [
    "_pivot=game_rev.pivot(index=['PlatformDashboard','App'],columns='CountryDashboard',values='EstimatedRevenue')\n",
    "game_rev_pivot.plot(kind='bar')\n",
    "plt.title('Estimated revenue by country by platform')\n",
    "game_rev_pivot"
   ]
  },
  {
   "cell_type": "markdown",
   "id": "356205d8-142e-49fd-acd5-dc8638f9685e",
   "metadata": {},
   "source": [
    "the highest estimated revenue valuse is in USA, let's look at the table again for United States:"
   ]
  },
  {
   "cell_type": "code",
   "execution_count": 19,
   "id": "16e671b6-4513-433f-9c44-b05c6b0604f9",
   "metadata": {},
   "outputs": [
    {
     "data": {
      "application/com.datacamp.data-table.v1+json": {
       "is_truncated": false,
       "table": {
        "data": [
         {
          "App": "Game X",
          "App_Country_Platform": "Game X_us_google",
          "Date": "12/07/2020",
          "Format": "interstitial",
          "Impressions": 4937.68,
          "Revenue": 389.1385608,
          "UserCount": 234,
          "eCPM": 78.81,
          "index": 93
         },
         {
          "App": "Game X",
          "App_Country_Platform": "Game X_us_itunes",
          "Date": "12/07/2020",
          "Format": "interstitial",
          "Impressions": 20957.4,
          "Revenue": 2455.15941,
          "UserCount": 1984,
          "eCPM": 117.15,
          "index": 94
         },
         {
          "App": "Game X",
          "App_Country_Platform": "Game X_us_google",
          "Date": "12/07/2020",
          "Format": "rewarded",
          "Impressions": 133.34,
          "Revenue": 17.9182292,
          "UserCount": 234,
          "eCPM": 134.38,
          "index": 95
         },
         {
          "App": "Game X",
          "App_Country_Platform": "Game X_us_itunes",
          "Date": "12/07/2020",
          "Format": "rewarded",
          "Impressions": 1100.97,
          "Revenue": 102.3571809,
          "UserCount": 1984,
          "eCPM": 92.97,
          "index": 96
         },
         {
          "App": "Game X",
          "App_Country_Platform": "Game X_us_itunes",
          "Date": "12/07/2020",
          "Format": "unclassified",
          "Impressions": 0,
          "Revenue": 0,
          "UserCount": 1984,
          "eCPM": 0,
          "index": 97
         },
         {
          "App": "Game X",
          "App_Country_Platform": "Game X_us_google",
          "Date": "12/08/2020",
          "Format": "interstitial",
          "Impressions": 1492.64,
          "Revenue": 110.7986672,
          "UserCount": 228,
          "eCPM": 74.23,
          "index": 98
         },
         {
          "App": "Game X",
          "App_Country_Platform": "Game X_us_itunes",
          "Date": "12/08/2020",
          "Format": "interstitial",
          "Impressions": 26258.04,
          "Revenue": 2523.397644,
          "UserCount": 1551,
          "eCPM": 96.1,
          "index": 99
         },
         {
          "App": "Game X",
          "App_Country_Platform": "Game X_us_google",
          "Date": "12/08/2020",
          "Format": "rewarded",
          "Impressions": 97.2,
          "Revenue": 7.028532,
          "UserCount": 228,
          "eCPM": 72.31,
          "index": 100
         },
         {
          "App": "Game X",
          "App_Country_Platform": "Game X_us_itunes",
          "Date": "12/08/2020",
          "Format": "rewarded",
          "Impressions": 87.67,
          "Revenue": 9.5358659,
          "UserCount": 1551,
          "eCPM": 108.77,
          "index": 101
         },
         {
          "App": "Game X",
          "App_Country_Platform": "Game X_us_itunes",
          "Date": "12/08/2020",
          "Format": "unclassified",
          "Impressions": 0,
          "Revenue": 0,
          "UserCount": 1551,
          "eCPM": 8.4,
          "index": 102
         },
         {
          "App": "Game X",
          "App_Country_Platform": "Game X_us_google",
          "Date": "12/09/2020",
          "Format": "interstitial",
          "Impressions": 519.9,
          "Revenue": 16.080507,
          "UserCount": 515,
          "eCPM": 30.93,
          "index": 103
         },
         {
          "App": "Game X",
          "App_Country_Platform": "Game X_us_itunes",
          "Date": "12/09/2020",
          "Format": "interstitial",
          "Impressions": 6764.51,
          "Revenue": 106.9469031,
          "UserCount": 2077,
          "eCPM": 15.81,
          "index": 104
         },
         {
          "App": "Game X",
          "App_Country_Platform": "Game X_us_google",
          "Date": "12/09/2020",
          "Format": "rewarded",
          "Impressions": 148.75,
          "Revenue": 13.20305,
          "UserCount": 515,
          "eCPM": 88.76,
          "index": 105
         },
         {
          "App": "Game X",
          "App_Country_Platform": "Game X_us_itunes",
          "Date": "12/09/2020",
          "Format": "rewarded",
          "Impressions": 325.26,
          "Revenue": 8.9023662,
          "UserCount": 2077,
          "eCPM": 27.37,
          "index": 106
         },
         {
          "App": "Game X",
          "App_Country_Platform": "Game X_us_google",
          "Date": "12/10/2020",
          "Format": "interstitial",
          "Impressions": 3372.12,
          "Revenue": 31.8328128,
          "UserCount": 222,
          "eCPM": 9.44,
          "index": 107
         },
         {
          "App": "Game X",
          "App_Country_Platform": "Game X_us_itunes",
          "Date": "12/10/2020",
          "Format": "interstitial",
          "Impressions": 8268.76,
          "Revenue": 720.622434,
          "UserCount": 2596,
          "eCPM": 87.15,
          "index": 108
         },
         {
          "App": "Game X",
          "App_Country_Platform": "Game X_us_google",
          "Date": "12/10/2020",
          "Format": "rewarded",
          "Impressions": 51.66,
          "Revenue": 4.3311744,
          "UserCount": 222,
          "eCPM": 83.84,
          "index": 109
         },
         {
          "App": "Game X",
          "App_Country_Platform": "Game X_us_itunes",
          "Date": "12/10/2020",
          "Format": "rewarded",
          "Impressions": 582.78,
          "Revenue": 36.6626898,
          "UserCount": 2596,
          "eCPM": 62.91,
          "index": 110
         },
         {
          "App": "Game X",
          "App_Country_Platform": "Game X_us_itunes",
          "Date": "12/10/2020",
          "Format": "unclassified",
          "Impressions": 0,
          "Revenue": 0,
          "UserCount": 2596,
          "eCPM": 0,
          "index": 111
         },
         {
          "App": "Game X",
          "App_Country_Platform": "Game X_us_google",
          "Date": "12/11/2020",
          "Format": "interstitial",
          "Impressions": 1667.56,
          "Revenue": 116.479066,
          "UserCount": 262,
          "eCPM": 69.85,
          "index": 112
         },
         {
          "App": "Game X",
          "App_Country_Platform": "Game X_us_itunes",
          "Date": "12/11/2020",
          "Format": "interstitial",
          "Impressions": 27597.96,
          "Revenue": 3108.910194,
          "UserCount": 2246,
          "eCPM": 112.65,
          "index": 113
         },
         {
          "App": "Game X",
          "App_Country_Platform": "Game X_us_google",
          "Date": "12/11/2020",
          "Format": "rewarded",
          "Impressions": 47.25,
          "Revenue": 4.0970475,
          "UserCount": 262,
          "eCPM": 86.71,
          "index": 114
         },
         {
          "App": "Game X",
          "App_Country_Platform": "Game X_us_itunes",
          "Date": "12/11/2020",
          "Format": "rewarded",
          "Impressions": 475.75,
          "Revenue": 52.132685,
          "UserCount": 2246,
          "eCPM": 109.58,
          "index": 115
         },
         {
          "App": "Game X",
          "App_Country_Platform": "Game X_us_itunes",
          "Date": "12/11/2020",
          "Format": "unclassified",
          "Impressions": 0,
          "Revenue": 0,
          "UserCount": 2246,
          "eCPM": 1.79,
          "index": 116
         },
         {
          "App": "Game X",
          "App_Country_Platform": "Game X_us_google",
          "Date": "12/12/2020",
          "Format": "interstitial",
          "Impressions": 444.6,
          "Revenue": 19.166706,
          "UserCount": 499,
          "eCPM": 43.11,
          "index": 117
         },
         {
          "App": "Game X",
          "App_Country_Platform": "Game X_us_itunes",
          "Date": "12/12/2020",
          "Format": "interstitial",
          "Impressions": 29542.24,
          "Revenue": 2545.3593984,
          "UserCount": 911,
          "eCPM": 86.16,
          "index": 118
         },
         {
          "App": "Game X",
          "App_Country_Platform": "Game X_us_google",
          "Date": "12/12/2020",
          "Format": "rewarded",
          "Impressions": 82.83,
          "Revenue": 2.8170483,
          "UserCount": 499,
          "eCPM": 34.01,
          "index": 119
         },
         {
          "App": "Game X",
          "App_Country_Platform": "Game X_us_itunes",
          "Date": "12/12/2020",
          "Format": "rewarded",
          "Impressions": 1467.4,
          "Revenue": 77.508068,
          "UserCount": 911,
          "eCPM": 52.82,
          "index": 120
         },
         {
          "App": "Game X",
          "App_Country_Platform": "Game X_us_itunes",
          "Date": "12/12/2020",
          "Format": "unclassified",
          "Impressions": 0,
          "Revenue": 0,
          "UserCount": 911,
          "eCPM": 0,
          "index": 121
         },
         {
          "App": "Game X",
          "App_Country_Platform": "Game X_us_google",
          "Date": "12/13/2020",
          "Format": "interstitial",
          "Impressions": 6377.21,
          "Revenue": 574.3953047,
          "UserCount": 893,
          "eCPM": 90.07,
          "index": 122
         },
         {
          "App": "Game X",
          "App_Country_Platform": "Game X_us_itunes",
          "Date": "12/13/2020",
          "Format": "interstitial",
          "Impressions": 35755.2,
          "Revenue": 1817.794368,
          "UserCount": 1999,
          "eCPM": 50.84,
          "index": 123
         },
         {
          "App": "Game X",
          "App_Country_Platform": "Game X_us_google",
          "Date": "12/13/2020",
          "Format": "rewarded",
          "Impressions": 258.86,
          "Revenue": 12.2518438,
          "UserCount": 893,
          "eCPM": 47.33,
          "index": 124
         },
         {
          "App": "Game X",
          "App_Country_Platform": "Game X_us_itunes",
          "Date": "12/13/2020",
          "Format": "rewarded",
          "Impressions": 840.45,
          "Revenue": 25.1546685,
          "UserCount": 1999,
          "eCPM": 29.93,
          "index": 125
         }
        ],
        "schema": {
         "fields": [
          {
           "name": "index",
           "type": "integer"
          },
          {
           "name": "Date",
           "type": "string"
          },
          {
           "name": "App",
           "type": "string"
          },
          {
           "name": "Format",
           "type": "string"
          },
          {
           "name": "eCPM",
           "type": "number"
          },
          {
           "name": "Impressions",
           "type": "number"
          },
          {
           "name": "App_Country_Platform",
           "type": "string"
          },
          {
           "name": "UserCount",
           "type": "integer"
          },
          {
           "name": "Revenue",
           "type": "number"
          }
         ],
         "pandas_version": "0.20.0",
         "primaryKey": [
          "index"
         ]
        }
       },
       "total_rows": 33
      },
      "text/html": [
       "<div>\n",
       "<style scoped>\n",
       "    .dataframe tbody tr th:only-of-type {\n",
       "        vertical-align: middle;\n",
       "    }\n",
       "\n",
       "    .dataframe tbody tr th {\n",
       "        vertical-align: top;\n",
       "    }\n",
       "\n",
       "    .dataframe thead th {\n",
       "        text-align: right;\n",
       "    }\n",
       "</style>\n",
       "<table border=\"1\" class=\"dataframe\">\n",
       "  <thead>\n",
       "    <tr style=\"text-align: right;\">\n",
       "      <th></th>\n",
       "      <th>Date</th>\n",
       "      <th>App</th>\n",
       "      <th>Format</th>\n",
       "      <th>eCPM</th>\n",
       "      <th>Impressions</th>\n",
       "      <th>App_Country_Platform</th>\n",
       "      <th>UserCount</th>\n",
       "      <th>Revenue</th>\n",
       "    </tr>\n",
       "  </thead>\n",
       "  <tbody>\n",
       "    <tr>\n",
       "      <th>93</th>\n",
       "      <td>12/07/2020</td>\n",
       "      <td>Game X</td>\n",
       "      <td>interstitial</td>\n",
       "      <td>78.81</td>\n",
       "      <td>4937.68</td>\n",
       "      <td>Game X_us_google</td>\n",
       "      <td>234</td>\n",
       "      <td>389.138561</td>\n",
       "    </tr>\n",
       "    <tr>\n",
       "      <th>94</th>\n",
       "      <td>12/07/2020</td>\n",
       "      <td>Game X</td>\n",
       "      <td>interstitial</td>\n",
       "      <td>117.15</td>\n",
       "      <td>20957.40</td>\n",
       "      <td>Game X_us_itunes</td>\n",
       "      <td>1984</td>\n",
       "      <td>2455.159410</td>\n",
       "    </tr>\n",
       "    <tr>\n",
       "      <th>95</th>\n",
       "      <td>12/07/2020</td>\n",
       "      <td>Game X</td>\n",
       "      <td>rewarded</td>\n",
       "      <td>134.38</td>\n",
       "      <td>133.34</td>\n",
       "      <td>Game X_us_google</td>\n",
       "      <td>234</td>\n",
       "      <td>17.918229</td>\n",
       "    </tr>\n",
       "    <tr>\n",
       "      <th>96</th>\n",
       "      <td>12/07/2020</td>\n",
       "      <td>Game X</td>\n",
       "      <td>rewarded</td>\n",
       "      <td>92.97</td>\n",
       "      <td>1100.97</td>\n",
       "      <td>Game X_us_itunes</td>\n",
       "      <td>1984</td>\n",
       "      <td>102.357181</td>\n",
       "    </tr>\n",
       "    <tr>\n",
       "      <th>97</th>\n",
       "      <td>12/07/2020</td>\n",
       "      <td>Game X</td>\n",
       "      <td>unclassified</td>\n",
       "      <td>0.00</td>\n",
       "      <td>0.00</td>\n",
       "      <td>Game X_us_itunes</td>\n",
       "      <td>1984</td>\n",
       "      <td>0.000000</td>\n",
       "    </tr>\n",
       "    <tr>\n",
       "      <th>98</th>\n",
       "      <td>12/08/2020</td>\n",
       "      <td>Game X</td>\n",
       "      <td>interstitial</td>\n",
       "      <td>74.23</td>\n",
       "      <td>1492.64</td>\n",
       "      <td>Game X_us_google</td>\n",
       "      <td>228</td>\n",
       "      <td>110.798667</td>\n",
       "    </tr>\n",
       "    <tr>\n",
       "      <th>99</th>\n",
       "      <td>12/08/2020</td>\n",
       "      <td>Game X</td>\n",
       "      <td>interstitial</td>\n",
       "      <td>96.10</td>\n",
       "      <td>26258.04</td>\n",
       "      <td>Game X_us_itunes</td>\n",
       "      <td>1551</td>\n",
       "      <td>2523.397644</td>\n",
       "    </tr>\n",
       "    <tr>\n",
       "      <th>100</th>\n",
       "      <td>12/08/2020</td>\n",
       "      <td>Game X</td>\n",
       "      <td>rewarded</td>\n",
       "      <td>72.31</td>\n",
       "      <td>97.20</td>\n",
       "      <td>Game X_us_google</td>\n",
       "      <td>228</td>\n",
       "      <td>7.028532</td>\n",
       "    </tr>\n",
       "    <tr>\n",
       "      <th>101</th>\n",
       "      <td>12/08/2020</td>\n",
       "      <td>Game X</td>\n",
       "      <td>rewarded</td>\n",
       "      <td>108.77</td>\n",
       "      <td>87.67</td>\n",
       "      <td>Game X_us_itunes</td>\n",
       "      <td>1551</td>\n",
       "      <td>9.535866</td>\n",
       "    </tr>\n",
       "    <tr>\n",
       "      <th>102</th>\n",
       "      <td>12/08/2020</td>\n",
       "      <td>Game X</td>\n",
       "      <td>unclassified</td>\n",
       "      <td>8.40</td>\n",
       "      <td>0.00</td>\n",
       "      <td>Game X_us_itunes</td>\n",
       "      <td>1551</td>\n",
       "      <td>0.000000</td>\n",
       "    </tr>\n",
       "    <tr>\n",
       "      <th>103</th>\n",
       "      <td>12/09/2020</td>\n",
       "      <td>Game X</td>\n",
       "      <td>interstitial</td>\n",
       "      <td>30.93</td>\n",
       "      <td>519.90</td>\n",
       "      <td>Game X_us_google</td>\n",
       "      <td>515</td>\n",
       "      <td>16.080507</td>\n",
       "    </tr>\n",
       "    <tr>\n",
       "      <th>104</th>\n",
       "      <td>12/09/2020</td>\n",
       "      <td>Game X</td>\n",
       "      <td>interstitial</td>\n",
       "      <td>15.81</td>\n",
       "      <td>6764.51</td>\n",
       "      <td>Game X_us_itunes</td>\n",
       "      <td>2077</td>\n",
       "      <td>106.946903</td>\n",
       "    </tr>\n",
       "    <tr>\n",
       "      <th>105</th>\n",
       "      <td>12/09/2020</td>\n",
       "      <td>Game X</td>\n",
       "      <td>rewarded</td>\n",
       "      <td>88.76</td>\n",
       "      <td>148.75</td>\n",
       "      <td>Game X_us_google</td>\n",
       "      <td>515</td>\n",
       "      <td>13.203050</td>\n",
       "    </tr>\n",
       "    <tr>\n",
       "      <th>106</th>\n",
       "      <td>12/09/2020</td>\n",
       "      <td>Game X</td>\n",
       "      <td>rewarded</td>\n",
       "      <td>27.37</td>\n",
       "      <td>325.26</td>\n",
       "      <td>Game X_us_itunes</td>\n",
       "      <td>2077</td>\n",
       "      <td>8.902366</td>\n",
       "    </tr>\n",
       "    <tr>\n",
       "      <th>107</th>\n",
       "      <td>12/10/2020</td>\n",
       "      <td>Game X</td>\n",
       "      <td>interstitial</td>\n",
       "      <td>9.44</td>\n",
       "      <td>3372.12</td>\n",
       "      <td>Game X_us_google</td>\n",
       "      <td>222</td>\n",
       "      <td>31.832813</td>\n",
       "    </tr>\n",
       "    <tr>\n",
       "      <th>108</th>\n",
       "      <td>12/10/2020</td>\n",
       "      <td>Game X</td>\n",
       "      <td>interstitial</td>\n",
       "      <td>87.15</td>\n",
       "      <td>8268.76</td>\n",
       "      <td>Game X_us_itunes</td>\n",
       "      <td>2596</td>\n",
       "      <td>720.622434</td>\n",
       "    </tr>\n",
       "    <tr>\n",
       "      <th>109</th>\n",
       "      <td>12/10/2020</td>\n",
       "      <td>Game X</td>\n",
       "      <td>rewarded</td>\n",
       "      <td>83.84</td>\n",
       "      <td>51.66</td>\n",
       "      <td>Game X_us_google</td>\n",
       "      <td>222</td>\n",
       "      <td>4.331174</td>\n",
       "    </tr>\n",
       "    <tr>\n",
       "      <th>110</th>\n",
       "      <td>12/10/2020</td>\n",
       "      <td>Game X</td>\n",
       "      <td>rewarded</td>\n",
       "      <td>62.91</td>\n",
       "      <td>582.78</td>\n",
       "      <td>Game X_us_itunes</td>\n",
       "      <td>2596</td>\n",
       "      <td>36.662690</td>\n",
       "    </tr>\n",
       "    <tr>\n",
       "      <th>111</th>\n",
       "      <td>12/10/2020</td>\n",
       "      <td>Game X</td>\n",
       "      <td>unclassified</td>\n",
       "      <td>0.00</td>\n",
       "      <td>0.00</td>\n",
       "      <td>Game X_us_itunes</td>\n",
       "      <td>2596</td>\n",
       "      <td>0.000000</td>\n",
       "    </tr>\n",
       "    <tr>\n",
       "      <th>112</th>\n",
       "      <td>12/11/2020</td>\n",
       "      <td>Game X</td>\n",
       "      <td>interstitial</td>\n",
       "      <td>69.85</td>\n",
       "      <td>1667.56</td>\n",
       "      <td>Game X_us_google</td>\n",
       "      <td>262</td>\n",
       "      <td>116.479066</td>\n",
       "    </tr>\n",
       "    <tr>\n",
       "      <th>113</th>\n",
       "      <td>12/11/2020</td>\n",
       "      <td>Game X</td>\n",
       "      <td>interstitial</td>\n",
       "      <td>112.65</td>\n",
       "      <td>27597.96</td>\n",
       "      <td>Game X_us_itunes</td>\n",
       "      <td>2246</td>\n",
       "      <td>3108.910194</td>\n",
       "    </tr>\n",
       "    <tr>\n",
       "      <th>114</th>\n",
       "      <td>12/11/2020</td>\n",
       "      <td>Game X</td>\n",
       "      <td>rewarded</td>\n",
       "      <td>86.71</td>\n",
       "      <td>47.25</td>\n",
       "      <td>Game X_us_google</td>\n",
       "      <td>262</td>\n",
       "      <td>4.097047</td>\n",
       "    </tr>\n",
       "    <tr>\n",
       "      <th>115</th>\n",
       "      <td>12/11/2020</td>\n",
       "      <td>Game X</td>\n",
       "      <td>rewarded</td>\n",
       "      <td>109.58</td>\n",
       "      <td>475.75</td>\n",
       "      <td>Game X_us_itunes</td>\n",
       "      <td>2246</td>\n",
       "      <td>52.132685</td>\n",
       "    </tr>\n",
       "    <tr>\n",
       "      <th>116</th>\n",
       "      <td>12/11/2020</td>\n",
       "      <td>Game X</td>\n",
       "      <td>unclassified</td>\n",
       "      <td>1.79</td>\n",
       "      <td>0.00</td>\n",
       "      <td>Game X_us_itunes</td>\n",
       "      <td>2246</td>\n",
       "      <td>0.000000</td>\n",
       "    </tr>\n",
       "    <tr>\n",
       "      <th>117</th>\n",
       "      <td>12/12/2020</td>\n",
       "      <td>Game X</td>\n",
       "      <td>interstitial</td>\n",
       "      <td>43.11</td>\n",
       "      <td>444.60</td>\n",
       "      <td>Game X_us_google</td>\n",
       "      <td>499</td>\n",
       "      <td>19.166706</td>\n",
       "    </tr>\n",
       "    <tr>\n",
       "      <th>118</th>\n",
       "      <td>12/12/2020</td>\n",
       "      <td>Game X</td>\n",
       "      <td>interstitial</td>\n",
       "      <td>86.16</td>\n",
       "      <td>29542.24</td>\n",
       "      <td>Game X_us_itunes</td>\n",
       "      <td>911</td>\n",
       "      <td>2545.359398</td>\n",
       "    </tr>\n",
       "    <tr>\n",
       "      <th>119</th>\n",
       "      <td>12/12/2020</td>\n",
       "      <td>Game X</td>\n",
       "      <td>rewarded</td>\n",
       "      <td>34.01</td>\n",
       "      <td>82.83</td>\n",
       "      <td>Game X_us_google</td>\n",
       "      <td>499</td>\n",
       "      <td>2.817048</td>\n",
       "    </tr>\n",
       "    <tr>\n",
       "      <th>120</th>\n",
       "      <td>12/12/2020</td>\n",
       "      <td>Game X</td>\n",
       "      <td>rewarded</td>\n",
       "      <td>52.82</td>\n",
       "      <td>1467.40</td>\n",
       "      <td>Game X_us_itunes</td>\n",
       "      <td>911</td>\n",
       "      <td>77.508068</td>\n",
       "    </tr>\n",
       "    <tr>\n",
       "      <th>121</th>\n",
       "      <td>12/12/2020</td>\n",
       "      <td>Game X</td>\n",
       "      <td>unclassified</td>\n",
       "      <td>0.00</td>\n",
       "      <td>0.00</td>\n",
       "      <td>Game X_us_itunes</td>\n",
       "      <td>911</td>\n",
       "      <td>0.000000</td>\n",
       "    </tr>\n",
       "    <tr>\n",
       "      <th>122</th>\n",
       "      <td>12/13/2020</td>\n",
       "      <td>Game X</td>\n",
       "      <td>interstitial</td>\n",
       "      <td>90.07</td>\n",
       "      <td>6377.21</td>\n",
       "      <td>Game X_us_google</td>\n",
       "      <td>893</td>\n",
       "      <td>574.395305</td>\n",
       "    </tr>\n",
       "    <tr>\n",
       "      <th>123</th>\n",
       "      <td>12/13/2020</td>\n",
       "      <td>Game X</td>\n",
       "      <td>interstitial</td>\n",
       "      <td>50.84</td>\n",
       "      <td>35755.20</td>\n",
       "      <td>Game X_us_itunes</td>\n",
       "      <td>1999</td>\n",
       "      <td>1817.794368</td>\n",
       "    </tr>\n",
       "    <tr>\n",
       "      <th>124</th>\n",
       "      <td>12/13/2020</td>\n",
       "      <td>Game X</td>\n",
       "      <td>rewarded</td>\n",
       "      <td>47.33</td>\n",
       "      <td>258.86</td>\n",
       "      <td>Game X_us_google</td>\n",
       "      <td>893</td>\n",
       "      <td>12.251844</td>\n",
       "    </tr>\n",
       "    <tr>\n",
       "      <th>125</th>\n",
       "      <td>12/13/2020</td>\n",
       "      <td>Game X</td>\n",
       "      <td>rewarded</td>\n",
       "      <td>29.93</td>\n",
       "      <td>840.45</td>\n",
       "      <td>Game X_us_itunes</td>\n",
       "      <td>1999</td>\n",
       "      <td>25.154668</td>\n",
       "    </tr>\n",
       "  </tbody>\n",
       "</table>\n",
       "</div>"
      ],
      "text/plain": [
       "           Date     App        Format    eCPM  Impressions  \\\n",
       "93   12/07/2020  Game X  interstitial   78.81      4937.68   \n",
       "94   12/07/2020  Game X  interstitial  117.15     20957.40   \n",
       "95   12/07/2020  Game X      rewarded  134.38       133.34   \n",
       "96   12/07/2020  Game X      rewarded   92.97      1100.97   \n",
       "97   12/07/2020  Game X  unclassified    0.00         0.00   \n",
       "98   12/08/2020  Game X  interstitial   74.23      1492.64   \n",
       "99   12/08/2020  Game X  interstitial   96.10     26258.04   \n",
       "100  12/08/2020  Game X      rewarded   72.31        97.20   \n",
       "101  12/08/2020  Game X      rewarded  108.77        87.67   \n",
       "102  12/08/2020  Game X  unclassified    8.40         0.00   \n",
       "103  12/09/2020  Game X  interstitial   30.93       519.90   \n",
       "104  12/09/2020  Game X  interstitial   15.81      6764.51   \n",
       "105  12/09/2020  Game X      rewarded   88.76       148.75   \n",
       "106  12/09/2020  Game X      rewarded   27.37       325.26   \n",
       "107  12/10/2020  Game X  interstitial    9.44      3372.12   \n",
       "108  12/10/2020  Game X  interstitial   87.15      8268.76   \n",
       "109  12/10/2020  Game X      rewarded   83.84        51.66   \n",
       "110  12/10/2020  Game X      rewarded   62.91       582.78   \n",
       "111  12/10/2020  Game X  unclassified    0.00         0.00   \n",
       "112  12/11/2020  Game X  interstitial   69.85      1667.56   \n",
       "113  12/11/2020  Game X  interstitial  112.65     27597.96   \n",
       "114  12/11/2020  Game X      rewarded   86.71        47.25   \n",
       "115  12/11/2020  Game X      rewarded  109.58       475.75   \n",
       "116  12/11/2020  Game X  unclassified    1.79         0.00   \n",
       "117  12/12/2020  Game X  interstitial   43.11       444.60   \n",
       "118  12/12/2020  Game X  interstitial   86.16     29542.24   \n",
       "119  12/12/2020  Game X      rewarded   34.01        82.83   \n",
       "120  12/12/2020  Game X      rewarded   52.82      1467.40   \n",
       "121  12/12/2020  Game X  unclassified    0.00         0.00   \n",
       "122  12/13/2020  Game X  interstitial   90.07      6377.21   \n",
       "123  12/13/2020  Game X  interstitial   50.84     35755.20   \n",
       "124  12/13/2020  Game X      rewarded   47.33       258.86   \n",
       "125  12/13/2020  Game X      rewarded   29.93       840.45   \n",
       "\n",
       "    App_Country_Platform  UserCount      Revenue  \n",
       "93      Game X_us_google        234   389.138561  \n",
       "94      Game X_us_itunes       1984  2455.159410  \n",
       "95      Game X_us_google        234    17.918229  \n",
       "96      Game X_us_itunes       1984   102.357181  \n",
       "97      Game X_us_itunes       1984     0.000000  \n",
       "98      Game X_us_google        228   110.798667  \n",
       "99      Game X_us_itunes       1551  2523.397644  \n",
       "100     Game X_us_google        228     7.028532  \n",
       "101     Game X_us_itunes       1551     9.535866  \n",
       "102     Game X_us_itunes       1551     0.000000  \n",
       "103     Game X_us_google        515    16.080507  \n",
       "104     Game X_us_itunes       2077   106.946903  \n",
       "105     Game X_us_google        515    13.203050  \n",
       "106     Game X_us_itunes       2077     8.902366  \n",
       "107     Game X_us_google        222    31.832813  \n",
       "108     Game X_us_itunes       2596   720.622434  \n",
       "109     Game X_us_google        222     4.331174  \n",
       "110     Game X_us_itunes       2596    36.662690  \n",
       "111     Game X_us_itunes       2596     0.000000  \n",
       "112     Game X_us_google        262   116.479066  \n",
       "113     Game X_us_itunes       2246  3108.910194  \n",
       "114     Game X_us_google        262     4.097047  \n",
       "115     Game X_us_itunes       2246    52.132685  \n",
       "116     Game X_us_itunes       2246     0.000000  \n",
       "117     Game X_us_google        499    19.166706  \n",
       "118     Game X_us_itunes        911  2545.359398  \n",
       "119     Game X_us_google        499     2.817048  \n",
       "120     Game X_us_itunes        911    77.508068  \n",
       "121     Game X_us_itunes        911     0.000000  \n",
       "122     Game X_us_google        893   574.395305  \n",
       "123     Game X_us_itunes       1999  1817.794368  \n",
       "124     Game X_us_google        893    12.251844  \n",
       "125     Game X_us_itunes       1999    25.154668  "
      ]
     },
     "execution_count": 19,
     "metadata": {},
     "output_type": "execute_result"
    }
   ],
   "source": [
    "gamex=ecpm_imp_ins_merged[(ecpm_imp_ins_merged['App']=='Game X') & (ecpm_imp_ins_merged['CountryDashboard']=='us')]\n",
    "del gamex['CountryDashboard']\n",
    "del gamex['PlatformDashboard']\n",
    "gamex"
   ]
  },
  {
   "cell_type": "markdown",
   "id": "01e115f1-ea24-4f38-a788-985db3a790bd",
   "metadata": {},
   "source": [
    "* The number of users and impressions in United States is too high for iOS. Even when we compare it with rewarded, it remains very high both according to rewarded and compared to other countries. Because the number of users is very high, the impression is also very high, so the revenue is very high."
   ]
  },
  {
   "cell_type": "markdown",
   "id": "9ec00749-3045-4699-8e6a-b6c5c5bd122a",
   "metadata": {},
   "source": [
    "**Average estimated revenue per user: ARPU**\n",
    "* eCPM is used to refer to revenue per thousand impressions. So I multiplied the impression by the eCPM and divided by 1000 to calculate the reveneu for each line. To calculate ARPU, I divided revenue by the number of users.\n",
    "* Like before I did, I calculated both the single value for each game and their values by country and platforms."
   ]
  },
  {
   "cell_type": "code",
   "execution_count": 20,
   "id": "13a0376f-e993-4661-b7f7-6dc1dc20ff94",
   "metadata": {},
   "outputs": [
    {
     "data": {
      "application/com.datacamp.data-table.v1+json": {
       "is_truncated": false,
       "table": {
        "data": [
         {
          "App": "Game X",
          "PlatformDashboard": "google",
          "de": 3.53,
          "gb": 3.29,
          "jp": 7.85,
          "us": 3.64
         },
         {
          "App": "Game Y",
          "PlatformDashboard": "google",
          "de": 2.14,
          "gb": 0.69,
          "jp": 3.17,
          "us": 1.71
         },
         {
          "App": "Game Z",
          "PlatformDashboard": "google",
          "de": 1.23,
          "gb": 1.75,
          "jp": 1.97,
          "us": 1.43
         },
         {
          "App": "Game X",
          "PlatformDashboard": "itunes",
          "de": 4.65,
          "gb": 7.82,
          "jp": 4.81,
          "us": 8.48
         },
         {
          "App": "Game Y",
          "PlatformDashboard": "itunes",
          "de": 2.7,
          "gb": 2.63,
          "jp": 4.38,
          "us": 2.03
         },
         {
          "App": "Game Z",
          "PlatformDashboard": "itunes",
          "de": 3.77,
          "gb": 2.51,
          "jp": 6.18,
          "us": 6.32
         }
        ],
        "schema": {
         "fields": [
          {
           "name": "PlatformDashboard",
           "type": "string"
          },
          {
           "name": "App",
           "type": "string"
          },
          {
           "name": "de",
           "type": "number"
          },
          {
           "name": "gb",
           "type": "number"
          },
          {
           "name": "jp",
           "type": "number"
          },
          {
           "name": "us",
           "type": "number"
          }
         ],
         "pandas_version": "0.20.0",
         "primaryKey": [
          "PlatformDashboard",
          "App"
         ]
        }
       },
       "total_rows": 6
      },
      "text/html": [
       "<div>\n",
       "<style scoped>\n",
       "    .dataframe tbody tr th:only-of-type {\n",
       "        vertical-align: middle;\n",
       "    }\n",
       "\n",
       "    .dataframe tbody tr th {\n",
       "        vertical-align: top;\n",
       "    }\n",
       "\n",
       "    .dataframe thead th {\n",
       "        text-align: right;\n",
       "    }\n",
       "</style>\n",
       "<table border=\"1\" class=\"dataframe\">\n",
       "  <thead>\n",
       "    <tr style=\"text-align: right;\">\n",
       "      <th></th>\n",
       "      <th>CountryDashboard</th>\n",
       "      <th>de</th>\n",
       "      <th>gb</th>\n",
       "      <th>jp</th>\n",
       "      <th>us</th>\n",
       "    </tr>\n",
       "    <tr>\n",
       "      <th>PlatformDashboard</th>\n",
       "      <th>App</th>\n",
       "      <th></th>\n",
       "      <th></th>\n",
       "      <th></th>\n",
       "      <th></th>\n",
       "    </tr>\n",
       "  </thead>\n",
       "  <tbody>\n",
       "    <tr>\n",
       "      <th rowspan=\"3\" valign=\"top\">google</th>\n",
       "      <th>Game X</th>\n",
       "      <td>3.53</td>\n",
       "      <td>3.29</td>\n",
       "      <td>7.85</td>\n",
       "      <td>3.64</td>\n",
       "    </tr>\n",
       "    <tr>\n",
       "      <th>Game Y</th>\n",
       "      <td>2.14</td>\n",
       "      <td>0.69</td>\n",
       "      <td>3.17</td>\n",
       "      <td>1.71</td>\n",
       "    </tr>\n",
       "    <tr>\n",
       "      <th>Game Z</th>\n",
       "      <td>1.23</td>\n",
       "      <td>1.75</td>\n",
       "      <td>1.97</td>\n",
       "      <td>1.43</td>\n",
       "    </tr>\n",
       "    <tr>\n",
       "      <th rowspan=\"3\" valign=\"top\">itunes</th>\n",
       "      <th>Game X</th>\n",
       "      <td>4.65</td>\n",
       "      <td>7.82</td>\n",
       "      <td>4.81</td>\n",
       "      <td>8.48</td>\n",
       "    </tr>\n",
       "    <tr>\n",
       "      <th>Game Y</th>\n",
       "      <td>2.70</td>\n",
       "      <td>2.63</td>\n",
       "      <td>4.38</td>\n",
       "      <td>2.03</td>\n",
       "    </tr>\n",
       "    <tr>\n",
       "      <th>Game Z</th>\n",
       "      <td>3.77</td>\n",
       "      <td>2.51</td>\n",
       "      <td>6.18</td>\n",
       "      <td>6.32</td>\n",
       "    </tr>\n",
       "  </tbody>\n",
       "</table>\n",
       "</div>"
      ],
      "text/plain": [
       "CountryDashboard            de    gb    jp    us\n",
       "PlatformDashboard App                           \n",
       "google            Game X  3.53  3.29  7.85  3.64\n",
       "                  Game Y  2.14  0.69  3.17  1.71\n",
       "                  Game Z  1.23  1.75  1.97  1.43\n",
       "itunes            Game X  4.65  7.82  4.81  8.48\n",
       "                  Game Y  2.70  2.63  4.38  2.03\n",
       "                  Game Z  3.77  2.51  6.18  6.32"
      ]
     },
     "execution_count": 20,
     "metadata": {},
     "output_type": "execute_result"
    },
    {
     "data": {
      "image/png": "[encoded data removed]",
      "text/plain": [
       "<Figure size 432x288 with 1 Axes>"
      ]
     },
     "metadata": {
      "needs_background": "light"
     },
     "output_type": "display_data"
    }
   ],
   "source": [
    "game_arpu=ecpm_imp_ins_merged\n",
    "game_arpu['Revenue'] = game_arpu['Impressions']*game_arpu['eCPM']/1000\n",
    "game_arpu['ARPU'] = game_arpu['Revenue']/game_arpu['UserCount']\n",
    "\n",
    "game_arpu =game_arpu.groupby(['CountryDashboard','PlatformDashboard','App'])['ARPU'].sum().round(2).reset_index()\n",
    "game_arpu_pivot=game_arpu.pivot(index=['PlatformDashboard','App'] , columns=['CountryDashboard'], values='ARPU').round(2)\n",
    "game_arpu_pivot.plot(kind='bar')\n",
    "plt.title('ARPU by country by platform')\n",
    "game_arpu_pivot"
   ]
  },
  {
   "cell_type": "code",
   "execution_count": 24,
   "id": "01e56303-5109-4699-8d2a-5f6d565bdd6b",
   "metadata": {},
   "outputs": [
    {
     "name": "stdout",
     "output_type": "stream",
     "text": [
      "ARPU for each game:\n",
      "App\n",
      "Game X    5.50875\n",
      "Game Y    2.43125\n",
      "Game Z    3.14500\n",
      "Name: ARPU, dtype: float64\n"
     ]
    }
   ],
   "source": [
    "print('ARPU for each game:\\n' +str(game_arpu.groupby('App')['ARPU'].mean()))"
   ]
  },
  {
   "cell_type": "markdown",
   "id": "767ba3c8-de44-4da5-b102-aa4e09ffebd9",
   "metadata": {},
   "source": [
    "### Maximum eCPM: Max_eCPM"
   ]
  },
  {
   "cell_type": "code",
   "execution_count": 47,
   "id": "9df79f4b-14c2-4472-808b-ef96c493d1ae",
   "metadata": {},
   "outputs": [
    {
     "name": "stdout",
     "output_type": "stream",
     "text": [
      "Max eCPM for each game in each country\n"
     ]
    },
    {
     "data": {
      "application/com.datacamp.data-table.v1+json": {
       "is_truncated": false,
       "table": {
        "data": [
         {
          "App": "Game X",
          "CountryDashboard": "de",
          "eCPM": 67.45,
          "index": 0
         },
         {
          "App": "Game Y",
          "CountryDashboard": "de",
          "eCPM": 86.56,
          "index": 1
         },
         {
          "App": "Game Z",
          "CountryDashboard": "de",
          "eCPM": 77.31,
          "index": 2
         },
         {
          "App": "Game X",
          "CountryDashboard": "gb",
          "eCPM": 130.17,
          "index": 3
         },
         {
          "App": "Game Y",
          "CountryDashboard": "gb",
          "eCPM": 81.55,
          "index": 4
         },
         {
          "App": "Game Z",
          "CountryDashboard": "gb",
          "eCPM": 100.44,
          "index": 5
         },
         {
          "App": "Game X",
          "CountryDashboard": "jp",
          "eCPM": 151.38,
          "index": 6
         },
         {
          "App": "Game Y",
          "CountryDashboard": "jp",
          "eCPM": 205.86,
          "index": 7
         },
         {
          "App": "Game Z",
          "CountryDashboard": "jp",
          "eCPM": 152.44,
          "index": 8
         },
         {
          "App": "Game X",
          "CountryDashboard": "us",
          "eCPM": 134.38,
          "index": 9
         },
         {
          "App": "Game Y",
          "CountryDashboard": "us",
          "eCPM": 134.72,
          "index": 10
         },
         {
          "App": "Game Z",
          "CountryDashboard": "us",
          "eCPM": 133.8,
          "index": 11
         }
        ],
        "schema": {
         "fields": [
          {
           "name": "index",
           "type": "integer"
          },
          {
           "name": "CountryDashboard",
           "type": "string"
          },
          {
           "name": "App",
           "type": "string"
          },
          {
           "name": "eCPM",
           "type": "number"
          }
         ],
         "pandas_version": "0.20.0",
         "primaryKey": [
          "index"
         ]
        }
       },
       "total_rows": 12
      },
      "text/html": [
       "<div>\n",
       "<style scoped>\n",
       "    .dataframe tbody tr th:only-of-type {\n",
       "        vertical-align: middle;\n",
       "    }\n",
       "\n",
       "    .dataframe tbody tr th {\n",
       "        vertical-align: top;\n",
       "    }\n",
       "\n",
       "    .dataframe thead th {\n",
       "        text-align: right;\n",
       "    }\n",
       "</style>\n",
       "<table border=\"1\" class=\"dataframe\">\n",
       "  <thead>\n",
       "    <tr style=\"text-align: right;\">\n",
       "      <th></th>\n",
       "      <th>CountryDashboard</th>\n",
       "      <th>App</th>\n",
       "      <th>eCPM</th>\n",
       "    </tr>\n",
       "  </thead>\n",
       "  <tbody>\n",
       "    <tr>\n",
       "      <th>0</th>\n",
       "      <td>de</td>\n",
       "      <td>Game X</td>\n",
       "      <td>67.45</td>\n",
       "    </tr>\n",
       "    <tr>\n",
       "      <th>1</th>\n",
       "      <td>de</td>\n",
       "      <td>Game Y</td>\n",
       "      <td>86.56</td>\n",
       "    </tr>\n",
       "    <tr>\n",
       "      <th>2</th>\n",
       "      <td>de</td>\n",
       "      <td>Game Z</td>\n",
       "      <td>77.31</td>\n",
       "    </tr>\n",
       "    <tr>\n",
       "      <th>3</th>\n",
       "      <td>gb</td>\n",
       "      <td>Game X</td>\n",
       "      <td>130.17</td>\n",
       "    </tr>\n",
       "    <tr>\n",
       "      <th>4</th>\n",
       "      <td>gb</td>\n",
       "      <td>Game Y</td>\n",
       "      <td>81.55</td>\n",
       "    </tr>\n",
       "    <tr>\n",
       "      <th>5</th>\n",
       "      <td>gb</td>\n",
       "      <td>Game Z</td>\n",
       "      <td>100.44</td>\n",
       "    </tr>\n",
       "    <tr>\n",
       "      <th>6</th>\n",
       "      <td>jp</td>\n",
       "      <td>Game X</td>\n",
       "      <td>151.38</td>\n",
       "    </tr>\n",
       "    <tr>\n",
       "      <th>7</th>\n",
       "      <td>jp</td>\n",
       "      <td>Game Y</td>\n",
       "      <td>205.86</td>\n",
       "    </tr>\n",
       "    <tr>\n",
       "      <th>8</th>\n",
       "      <td>jp</td>\n",
       "      <td>Game Z</td>\n",
       "      <td>152.44</td>\n",
       "    </tr>\n",
       "    <tr>\n",
       "      <th>9</th>\n",
       "      <td>us</td>\n",
       "      <td>Game X</td>\n",
       "      <td>134.38</td>\n",
       "    </tr>\n",
       "    <tr>\n",
       "      <th>10</th>\n",
       "      <td>us</td>\n",
       "      <td>Game Y</td>\n",
       "      <td>134.72</td>\n",
       "    </tr>\n",
       "    <tr>\n",
       "      <th>11</th>\n",
       "      <td>us</td>\n",
       "      <td>Game Z</td>\n",
       "      <td>133.80</td>\n",
       "    </tr>\n",
       "  </tbody>\n",
       "</table>\n",
       "</div>"
      ],
      "text/plain": [
       "   CountryDashboard     App    eCPM\n",
       "0                de  Game X   67.45\n",
       "1                de  Game Y   86.56\n",
       "2                de  Game Z   77.31\n",
       "3                gb  Game X  130.17\n",
       "4                gb  Game Y   81.55\n",
       "5                gb  Game Z  100.44\n",
       "6                jp  Game X  151.38\n",
       "7                jp  Game Y  205.86\n",
       "8                jp  Game Z  152.44\n",
       "9                us  Game X  134.38\n",
       "10               us  Game Y  134.72\n",
       "11               us  Game Z  133.80"
      ]
     },
     "execution_count": 47,
     "metadata": {},
     "output_type": "execute_result"
    }
   ],
   "source": [
    "game_groups =ecpm_imp_ins_merged[ecpm_imp_ins_merged['eCPM']>0]\n",
    "max_ecpm=game_groups.groupby(['CountryDashboard','App'])['eCPM'].max().round(2).reset_index()\n",
    "print('Max eCPM for each game in each country')\n",
    "max_ecpm\n"
   ]
  },
  {
   "cell_type": "code",
   "execution_count": 48,
   "id": "d127f80e-c494-4deb-bfbc-af86487f59a4",
   "metadata": {},
   "outputs": [
    {
     "name": "stdout",
     "output_type": "stream",
     "text": [
      "Min eCPM for each game in each country\n"
     ]
    },
    {
     "data": {
      "application/com.datacamp.data-table.v1+json": {
       "is_truncated": false,
       "table": {
        "data": [
         {
          "App": "Game X",
          "CountryDashboard": "de",
          "eCPM": 10.57,
          "index": 0
         },
         {
          "App": "Game Y",
          "CountryDashboard": "de",
          "eCPM": 7.78,
          "index": 1
         },
         {
          "App": "Game Z",
          "CountryDashboard": "de",
          "eCPM": 8.12,
          "index": 2
         },
         {
          "App": "Game X",
          "CountryDashboard": "gb",
          "eCPM": 5.94,
          "index": 3
         },
         {
          "App": "Game Y",
          "CountryDashboard": "gb",
          "eCPM": 6.73,
          "index": 4
         },
         {
          "App": "Game Z",
          "CountryDashboard": "gb",
          "eCPM": 15.68,
          "index": 5
         },
         {
          "App": "Game X",
          "CountryDashboard": "jp",
          "eCPM": 5.09,
          "index": 6
         },
         {
          "App": "Game Y",
          "CountryDashboard": "jp",
          "eCPM": 12.06,
          "index": 7
         },
         {
          "App": "Game Z",
          "CountryDashboard": "jp",
          "eCPM": 10.51,
          "index": 8
         },
         {
          "App": "Game X",
          "CountryDashboard": "us",
          "eCPM": 1.79,
          "index": 9
         },
         {
          "App": "Game Y",
          "CountryDashboard": "us",
          "eCPM": 11.56,
          "index": 10
         },
         {
          "App": "Game Z",
          "CountryDashboard": "us",
          "eCPM": 18.99,
          "index": 11
         }
        ],
        "schema": {
         "fields": [
          {
           "name": "index",
           "type": "integer"
          },
          {
           "name": "CountryDashboard",
           "type": "string"
          },
          {
           "name": "App",
           "type": "string"
          },
          {
           "name": "eCPM",
           "type": "number"
          }
         ],
         "pandas_version": "0.20.0",
         "primaryKey": [
          "index"
         ]
        }
       },
       "total_rows": 12
      },
      "text/html": [
       "<div>\n",
       "<style scoped>\n",
       "    .dataframe tbody tr th:only-of-type {\n",
       "        vertical-align: middle;\n",
       "    }\n",
       "\n",
       "    .dataframe tbody tr th {\n",
       "        vertical-align: top;\n",
       "    }\n",
       "\n",
       "    .dataframe thead th {\n",
       "        text-align: right;\n",
       "    }\n",
       "</style>\n",
       "<table border=\"1\" class=\"dataframe\">\n",
       "  <thead>\n",
       "    <tr style=\"text-align: right;\">\n",
       "      <th></th>\n",
       "      <th>CountryDashboard</th>\n",
       "      <th>App</th>\n",
       "      <th>eCPM</th>\n",
       "    </tr>\n",
       "  </thead>\n",
       "  <tbody>\n",
       "    <tr>\n",
       "      <th>0</th>\n",
       "      <td>de</td>\n",
       "      <td>Game X</td>\n",
       "      <td>10.57</td>\n",
       "    </tr>\n",
       "    <tr>\n",
       "      <th>1</th>\n",
       "      <td>de</td>\n",
       "      <td>Game Y</td>\n",
       "      <td>7.78</td>\n",
       "    </tr>\n",
       "    <tr>\n",
       "      <th>2</th>\n",
       "      <td>de</td>\n",
       "      <td>Game Z</td>\n",
       "      <td>8.12</td>\n",
       "    </tr>\n",
       "    <tr>\n",
       "      <th>3</th>\n",
       "      <td>gb</td>\n",
       "      <td>Game X</td>\n",
       "      <td>5.94</td>\n",
       "    </tr>\n",
       "    <tr>\n",
       "      <th>4</th>\n",
       "      <td>gb</td>\n",
       "      <td>Game Y</td>\n",
       "      <td>6.73</td>\n",
       "    </tr>\n",
       "    <tr>\n",
       "      <th>5</th>\n",
       "      <td>gb</td>\n",
       "      <td>Game Z</td>\n",
       "      <td>15.68</td>\n",
       "    </tr>\n",
       "    <tr>\n",
       "      <th>6</th>\n",
       "      <td>jp</td>\n",
       "      <td>Game X</td>\n",
       "      <td>5.09</td>\n",
       "    </tr>\n",
       "    <tr>\n",
       "      <th>7</th>\n",
       "      <td>jp</td>\n",
       "      <td>Game Y</td>\n",
       "      <td>12.06</td>\n",
       "    </tr>\n",
       "    <tr>\n",
       "      <th>8</th>\n",
       "      <td>jp</td>\n",
       "      <td>Game Z</td>\n",
       "      <td>10.51</td>\n",
       "    </tr>\n",
       "    <tr>\n",
       "      <th>9</th>\n",
       "      <td>us</td>\n",
       "      <td>Game X</td>\n",
       "      <td>1.79</td>\n",
       "    </tr>\n",
       "    <tr>\n",
       "      <th>10</th>\n",
       "      <td>us</td>\n",
       "      <td>Game Y</td>\n",
       "      <td>11.56</td>\n",
       "    </tr>\n",
       "    <tr>\n",
       "      <th>11</th>\n",
       "      <td>us</td>\n",
       "      <td>Game Z</td>\n",
       "      <td>18.99</td>\n",
       "    </tr>\n",
       "  </tbody>\n",
       "</table>\n",
       "</div>"
      ],
      "text/plain": [
       "   CountryDashboard     App   eCPM\n",
       "0                de  Game X  10.57\n",
       "1                de  Game Y   7.78\n",
       "2                de  Game Z   8.12\n",
       "3                gb  Game X   5.94\n",
       "4                gb  Game Y   6.73\n",
       "5                gb  Game Z  15.68\n",
       "6                jp  Game X   5.09\n",
       "7                jp  Game Y  12.06\n",
       "8                jp  Game Z  10.51\n",
       "9                us  Game X   1.79\n",
       "10               us  Game Y  11.56\n",
       "11               us  Game Z  18.99"
      ]
     },
     "execution_count": 48,
     "metadata": {},
     "output_type": "execute_result"
    }
   ],
   "source": [
    "min_ecpm=game_groups.groupby(['CountryDashboard','App'])['eCPM'].min().round(2).reset_index()\n",
    "print('Min eCPM for each game in each country')\n",
    "min_ecpm"
   ]
  },
  {
   "cell_type": "markdown",
   "id": "8b77a4d2-4c49-431b-89dd-d415b1f1bc7c",
   "metadata": {},
   "source": [
    "**Average number of users for last 3 days:** Ro3_Avr_Users. : I calculated not only the las 3 days but also running values for each day."
   ]
  },
  {
   "cell_type": "code",
   "execution_count": 27,
   "id": "143d4426-2c07-4893-a37b-9c944c2d67f9",
   "metadata": {},
   "outputs": [
    {
     "data": {
      "application/com.datacamp.data-table.v1+json": {
       "is_truncated": false,
       "table": {
        "data": [
         {
          "Date": "12/07/2020",
          "Ro3_Avr_Users_Game X": null,
          "Ro3_Avr_Users_Game Y": null,
          "Ro3_Avr_Users_Game Z": null
         },
         {
          "Date": "12/08/2020",
          "Ro3_Avr_Users_Game X": null,
          "Ro3_Avr_Users_Game Y": null,
          "Ro3_Avr_Users_Game Z": null
         },
         {
          "Date": "12/09/2020",
          "Ro3_Avr_Users_Game X": 6355,
          "Ro3_Avr_Users_Game Y": 20071,
          "Ro3_Avr_Users_Game Z": 28940.3333333333
         },
         {
          "Date": "12/10/2020",
          "Ro3_Avr_Users_Game X": 7088,
          "Ro3_Avr_Users_Game Y": 21889.3333333333,
          "Ro3_Avr_Users_Game Z": 34020
         },
         {
          "Date": "12/11/2020",
          "Ro3_Avr_Users_Game X": 7872,
          "Ro3_Avr_Users_Game Y": 23248,
          "Ro3_Avr_Users_Game Z": 35316
         },
         {
          "Date": "12/12/2020",
          "Ro3_Avr_Users_Game X": 7776.3333333333,
          "Ro3_Avr_Users_Game Y": 30506,
          "Ro3_Avr_Users_Game Z": 37279
         },
         {
          "Date": "12/13/2020",
          "Ro3_Avr_Users_Game X": 7157,
          "Ro3_Avr_Users_Game Y": 34660.3333333333,
          "Ro3_Avr_Users_Game Z": 62576
         }
        ],
        "schema": {
         "fields": [
          {
           "name": "Date",
           "type": "string"
          },
          {
           "name": "Ro3_Avr_Users_Game X",
           "type": "number"
          },
          {
           "name": "Ro3_Avr_Users_Game Y",
           "type": "number"
          },
          {
           "name": "Ro3_Avr_Users_Game Z",
           "type": "number"
          }
         ],
         "pandas_version": "0.20.0",
         "primaryKey": [
          "Date"
         ]
        }
       },
       "total_rows": 7
      },
      "text/html": [
       "<div>\n",
       "<style scoped>\n",
       "    .dataframe tbody tr th:only-of-type {\n",
       "        vertical-align: middle;\n",
       "    }\n",
       "\n",
       "    .dataframe tbody tr th {\n",
       "        vertical-align: top;\n",
       "    }\n",
       "\n",
       "    .dataframe thead th {\n",
       "        text-align: right;\n",
       "    }\n",
       "</style>\n",
       "<table border=\"1\" class=\"dataframe\">\n",
       "  <thead>\n",
       "    <tr style=\"text-align: right;\">\n",
       "      <th>App</th>\n",
       "      <th>Ro3_Avr_Users_Game X</th>\n",
       "      <th>Ro3_Avr_Users_Game Y</th>\n",
       "      <th>Ro3_Avr_Users_Game Z</th>\n",
       "    </tr>\n",
       "    <tr>\n",
       "      <th>Date</th>\n",
       "      <th></th>\n",
       "      <th></th>\n",
       "      <th></th>\n",
       "    </tr>\n",
       "  </thead>\n",
       "  <tbody>\n",
       "    <tr>\n",
       "      <th>12/07/2020</th>\n",
       "      <td>NaN</td>\n",
       "      <td>NaN</td>\n",
       "      <td>NaN</td>\n",
       "    </tr>\n",
       "    <tr>\n",
       "      <th>12/08/2020</th>\n",
       "      <td>NaN</td>\n",
       "      <td>NaN</td>\n",
       "      <td>NaN</td>\n",
       "    </tr>\n",
       "    <tr>\n",
       "      <th>12/09/2020</th>\n",
       "      <td>6355.000000</td>\n",
       "      <td>20071.000000</td>\n",
       "      <td>28940.333333</td>\n",
       "    </tr>\n",
       "    <tr>\n",
       "      <th>12/10/2020</th>\n",
       "      <td>7088.000000</td>\n",
       "      <td>21889.333333</td>\n",
       "      <td>34020.000000</td>\n",
       "    </tr>\n",
       "    <tr>\n",
       "      <th>12/11/2020</th>\n",
       "      <td>7872.000000</td>\n",
       "      <td>23248.000000</td>\n",
       "      <td>35316.000000</td>\n",
       "    </tr>\n",
       "    <tr>\n",
       "      <th>12/12/2020</th>\n",
       "      <td>7776.333333</td>\n",
       "      <td>30506.000000</td>\n",
       "      <td>37279.000000</td>\n",
       "    </tr>\n",
       "    <tr>\n",
       "      <th>12/13/2020</th>\n",
       "      <td>7157.000000</td>\n",
       "      <td>34660.333333</td>\n",
       "      <td>62576.000000</td>\n",
       "    </tr>\n",
       "  </tbody>\n",
       "</table>\n",
       "</div>"
      ],
      "text/plain": [
       "App         Ro3_Avr_Users_Game X  Ro3_Avr_Users_Game Y  Ro3_Avr_Users_Game Z\n",
       "Date                                                                        \n",
       "12/07/2020                   NaN                   NaN                   NaN\n",
       "12/08/2020                   NaN                   NaN                   NaN\n",
       "12/09/2020           6355.000000          20071.000000          28940.333333\n",
       "12/10/2020           7088.000000          21889.333333          34020.000000\n",
       "12/11/2020           7872.000000          23248.000000          35316.000000\n",
       "12/12/2020           7776.333333          30506.000000          37279.000000\n",
       "12/13/2020           7157.000000          34660.333333          62576.000000"
      ]
     },
     "execution_count": 27,
     "metadata": {},
     "output_type": "execute_result"
    },
    {
     "data": {
      "image/png": "[encoded data removed]",
      "text/plain": [
       "<Figure size 432x288 with 1 Axes>"
      ]
     },
     "metadata": {
      "needs_background": "light"
     },
     "output_type": "display_data"
    }
   ],
   "source": [
    "game_users=ecpm_imp_ins_merged.groupby(['Date','App'])['UserCount'].sum().reset_index()\n",
    "game_users=game_users.pivot(index='Date',columns='App',values='UserCount')\n",
    "\n",
    "game_users['Ro3_Avr_Users_Game X'] = game_users['Game X'].rolling(window=3,center=False).mean()\n",
    "game_users['Ro3_Avr_Users_Game Y'] = game_users['Game Y'].rolling(window=3,center=False).mean()\n",
    "game_users['Ro3_Avr_Users_Game Z'] = game_users['Game Z'].rolling(window=3,center=False).mean()\n",
    "del [game_users['Game X'],game_users['Game Y'], game_users['Game Z']]\n",
    "game_users.plot()\n",
    "plt.title('Average number of users for last 3 days')\n",
    "plt.xticks(rotation = 45)\n",
    "plt.ylim([0, 65000])\n",
    "game_users\n",
    "\n"
   ]
  },
  {
   "cell_type": "markdown",
   "id": "ce69f991-ff4e-4076-bdce-9d3e657c2af0",
   "metadata": {},
   "source": [
    "* According to the chart, there is an increase in the average of the last three days for Game Z and Game Y. The reason that triggered the increase should be examined here. There may be an increase in advertising in certain user groups, such as an additional update to the application. In addition, it can be viewed by platform and country. I think it is necessary to look at what triggered this increase.\n",
    "\n",
    "* similarly, there is a stable or even decline for game x. Here, too, the performance of the game should be examined in detail."
   ]
  },
  {
   "cell_type": "markdown",
   "id": "b42fa231-3bd7-45ad-902b-74b7feb6b1d7",
   "metadata": {},
   "source": [
    "**Average number of users of previous week: Pw_Avr_Users** I couldn't figure out how to subtract the previous week because there is one week in the data."
   ]
  },
  {
   "cell_type": "markdown",
   "id": "276ee68b-d4c8-4d23-a690-c1a2279e0f58",
   "metadata": {},
   "source": [
    "### Visualization"
   ]
  },
  {
   "cell_type": "markdown",
   "id": "18ef9f2a-8cf4-4cf5-9688-cde6ded53827",
   "metadata": {},
   "source": [
    "ecpm_imp_ins_merged dataframe created before has been used."
   ]
  },
  {
   "cell_type": "markdown",
   "id": "2f77178e-64cf-46f0-9581-762541259442",
   "metadata": {},
   "source": [
    "#### Number of installs"
   ]
  },
  {
   "cell_type": "code",
   "execution_count": 35,
   "id": "9255b316-a15e-442d-b8ef-26a12bd1cfdf",
   "metadata": {},
   "outputs": [
    {
     "data": {
      "text/plain": [
       "(array([-1.,  0.,  1.,  2.,  3.,  4.,  5.,  6.,  7.]),\n",
       " [Text(-1.0, 0, '(12/13/2020, itunes)'),\n",
       "  Text(0.0, 0, '(12/07/2020, itunes)'),\n",
       "  Text(1.0, 0, '(12/08/2020, itunes)'),\n",
       "  Text(2.0, 0, '(12/09/2020, itunes)'),\n",
       "  Text(3.0, 0, '(12/10/2020, itunes)'),\n",
       "  Text(4.0, 0, '(12/11/2020, itunes)'),\n",
       "  Text(5.0, 0, '(12/12/2020, itunes)'),\n",
       "  Text(6.0, 0, '(12/13/2020, itunes)'),\n",
       "  Text(7.0, 0, '')])"
      ]
     },
     "execution_count": 35,
     "metadata": {},
     "output_type": "execute_result"
    },
    {
     "data": {
      "image/png": "[encoded data removed]",
      "text/plain": [
       "<Figure size 432x288 with 1 Axes>"
      ]
     },
     "metadata": {
      "needs_background": "light"
     },
     "output_type": "display_data"
    },
    {
     "data": {
      "image/png": "[encoded data removed]",
      "text/plain": [
       "<Figure size 432x288 with 1 Axes>"
      ]
     },
     "metadata": {
      "needs_background": "light"
     },
     "output_type": "display_data"
    },
    {
     "data": {
      "image/png": "[encoded data removed]",
      "text/plain": [
       "<Figure size 432x288 with 1 Axes>"
      ]
     },
     "metadata": {
      "needs_background": "light"
     },
     "output_type": "display_data"
    },
    {
     "data": {
      "image/png": "[encoded data removed]",
      "text/plain": [
       "<Figure size 432x288 with 1 Axes>"
      ]
     },
     "metadata": {
      "needs_background": "light"
     },
     "output_type": "display_data"
    },
    {
     "data": {
      "image/png": "[encoded data removed]",
      "text/plain": [
       "<Figure size 432x288 with 1 Axes>"
      ]
     },
     "metadata": {
      "needs_background": "light"
     },
     "output_type": "display_data"
    },
    {
     "data": {
      "image/png": "[encoded data removed]",
      "text/plain": [
       "<Figure size 432x288 with 1 Axes>"
      ]
     },
     "metadata": {
      "needs_background": "light"
     },
     "output_type": "display_data"
    }
   ],
   "source": [
    "user_counts=ecpm_imp_ins_merged.groupby(['Date','App','CountryDashboard','PlatformDashboard'])['UserCount'].sum().reset_index()\n",
    "user_counts_game_x_google=user_counts[(user_counts['App']=='Game X')&(user_counts['PlatformDashboard']=='google')].pivot(columns=['App','CountryDashboard'], index=['Date','PlatformDashboard'],values='UserCount')\n",
    "user_counts_game_x_itunes=user_counts[(user_counts['App']=='Game X')&(user_counts['PlatformDashboard']=='itunes')].pivot(columns=['App','CountryDashboard'], index=['Date','PlatformDashboard'],values='UserCount')\n",
    "user_counts_game_y_google=user_counts[(user_counts['App']=='Game Y')&(user_counts['PlatformDashboard']=='google')].pivot(columns=['App','CountryDashboard'], index=['Date','PlatformDashboard'],values='UserCount')\n",
    "user_counts_game_y_itunes=user_counts[(user_counts['App']=='Game Y')&(user_counts['PlatformDashboard']=='itunes')].pivot(columns=['App','CountryDashboard'], index=['Date','PlatformDashboard'],values='UserCount')\n",
    "user_counts_game_z_google=user_counts[(user_counts['App']=='Game Z')&(user_counts['PlatformDashboard']=='google')].pivot(columns=['App','CountryDashboard'], index=['Date','PlatformDashboard'],values='UserCount')\n",
    "user_counts_game_z_itunes=user_counts[(user_counts['App']=='Game Z')&(user_counts['PlatformDashboard']=='itunes')].pivot(columns=['App','CountryDashboard'], index=['Date','PlatformDashboard'],values='UserCount')\n",
    "\n",
    "\n",
    "\n",
    "user_counts_game_x_google.plot()\n",
    "plt.title('Game X Android Users Count by countries over time')\n",
    "plt.xticks(rotation = 45)\n",
    "user_counts_game_x_itunes.plot()\n",
    "plt.title('Game X iOS Users Count by countries over time')\n",
    "plt.xticks(rotation = 45)\n",
    "user_counts_game_y_google.plot()\n",
    "plt.title('Game Y Android Users Count by countries over time')\n",
    "plt.xticks(rotation = 45)\n",
    "user_counts_game_y_itunes.plot()\n",
    "plt.title('Game Y iOS Users Count by countries over time')\n",
    "plt.xticks(rotation = 45)\n",
    "user_counts_game_z_google.plot()\n",
    "plt.title('Game Z Android Users Count by countries over time')\n",
    "plt.xticks(rotation = 45)\n",
    "user_counts_game_z_itunes.plot()\n",
    "plt.title('Game Z iOS Users Count by countries over time')\n",
    "plt.xticks(rotation = 45)\n",
    "\n",
    "\n",
    "#gamex_de=ecpm_imp_ins_merged[(ecpm_imp_ins_merged['App']=='Game X')&(ecpm_imp_ins_merged['CountryDashboard']=='de')]\n",
    "#gamex_de"
   ]
  },
  {
   "cell_type": "markdown",
   "id": "896a7f83-d67e-498f-9fe2-517ad42e95d9",
   "metadata": {},
   "source": [
    "#### Avarage eCPM"
   ]
  },
  {
   "cell_type": "code",
   "execution_count": 61,
   "id": "b14e3a4d-46b9-49f1-bd70-92b6810f0237",
   "metadata": {},
   "outputs": [
    {
     "data": {
      "text/plain": [
       "(array([-1.,  0.,  1.,  2.,  3.,  4.,  5.,  6.,  7.]),\n",
       " [Text(-1.0, 0, '12/13/2020'),\n",
       "  Text(0.0, 0, '12/07/2020'),\n",
       "  Text(1.0, 0, '12/08/2020'),\n",
       "  Text(2.0, 0, '12/09/2020'),\n",
       "  Text(3.0, 0, '12/10/2020'),\n",
       "  Text(4.0, 0, '12/11/2020'),\n",
       "  Text(5.0, 0, '12/12/2020'),\n",
       "  Text(6.0, 0, '12/13/2020'),\n",
       "  Text(7.0, 0, '')])"
      ]
     },
     "execution_count": 61,
     "metadata": {},
     "output_type": "execute_result"
    },
    {
     "data": {
      "image/png": "[encoded data removed]",
      "text/plain": [
       "<Figure size 432x288 with 1 Axes>"
      ]
     },
     "metadata": {
      "needs_background": "light"
     },
     "output_type": "display_data"
    },
    {
     "data": {
      "image/png": "[encoded data removed]",
      "text/plain": [
       "<Figure size 432x288 with 1 Axes>"
      ]
     },
     "metadata": {
      "needs_background": "light"
     },
     "output_type": "display_data"
    },
    {
     "data": {
      "image/png": "[encoded data removed]",
      "text/plain": [
       "<Figure size 432x288 with 1 Axes>"
      ]
     },
     "metadata": {
      "needs_background": "light"
     },
     "output_type": "display_data"
    }
   ],
   "source": [
    "ecpm=ecpm_imp_ins_merged\n",
    "avg_ecpm=ecpm.groupby(['Date','App','CountryDashboard'])['eCPM'].mean().reset_index()\n",
    "avg_ecpm_x=avg_ecpm[avg_ecpm['App']=='Game X'].pivot(index=['Date'],columns='CountryDashboard', values='eCPM')\n",
    "avg_ecpm_y=avg_ecpm[avg_ecpm['App']=='Game Y'].pivot(index=['Date'],columns='CountryDashboard', values='eCPM')\n",
    "avg_ecpm_z=avg_ecpm[avg_ecpm['App']=='Game Z'].pivot(index=['Date'],columns='CountryDashboard', values='eCPM')\n",
    "\n",
    "\n",
    "\n",
    "avg_ecpm_x.plot()\n",
    "plt.title('Avarage eCPM of Game X by countries over time')\n",
    "plt.xticks(rotation = 45)\n",
    "avg_ecpm_y.plot()\n",
    "plt.title('Avarage eCPM of Game Y by countries over time')\n",
    "plt.xticks(rotation = 45)\n",
    "avg_ecpm_y.plot()\n",
    "plt.title('Avarage eCPM of Game Z by countries over time')\n",
    "plt.xticks(rotation = 45)\n"
   ]
  },
  {
   "cell_type": "code",
   "execution_count": null,
   "id": "622d495c-6849-4e04-bfae-749a40d19675",
   "metadata": {},
   "outputs": [],
   "source": []
  }
 ],
 "metadata": {
  "kernelspec": {
   "display_name": "Python 3 (ipykernel)",
   "language": "python",
   "name": "python3"
  },
  "language_info": {
   "codemirror_mode": {
    "name": "ipython",
    "version": 3
   },
   "file_extension": ".py",
   "mimetype": "text/x-python",
   "name": "python",
   "nbconvert_exporter": "python",
   "pygments_lexer": "ipython3",
   "version": "3.8.10"
  }
 },
 "nbformat": 4,
 "nbformat_minor": 5
}
